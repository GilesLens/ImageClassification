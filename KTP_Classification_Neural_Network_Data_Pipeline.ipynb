{
  "cells": [
    {
      "cell_type": "markdown",
      "metadata": {
        "id": "86osJ7-rvAEa"
      },
      "source": [
        "# Data Loading"
      ]
    },
    {
      "cell_type": "markdown",
      "metadata": {
        "id": "HUTzGJ4BjO8s"
      },
      "source": [
        "Google Drive Mounting "
      ]
    },
    {
      "cell_type": "code",
      "execution_count": null,
      "metadata": {
        "colab": {
          "base_uri": "https://localhost:8080/"
        },
        "id": "Tv6K3novjN8n",
        "outputId": "0675ce20-e7e1-42ce-cb1d-9c2488d0fe61"
      },
      "outputs": [
        {
          "output_type": "stream",
          "name": "stdout",
          "text": [
            "Mounted at /content/drive\n"
          ]
        }
      ],
      "source": [
        "from google.colab import drive\n",
        "drive.mount('/content/drive')"
      ]
    },
    {
      "cell_type": "markdown",
      "metadata": {
        "id": "PiC8W1G9qFU1"
      },
      "source": [
        "Import data image loading packages "
      ]
    },
    {
      "cell_type": "code",
      "execution_count": null,
      "metadata": {
        "id": "NgUxeDz2qFaz"
      },
      "outputs": [],
      "source": [
        "import numpy as np \n",
        "import matplotlib.pyplot as plt \n",
        "import os \n",
        "import cv2\n",
        "from PIL import Image,ImageStat\n",
        "import math\n",
        "import pandas as pd\n",
        "from scipy import ndimage\n",
        "import seaborn as sns"
      ]
    },
    {
      "cell_type": "markdown",
      "metadata": {
        "id": "6PqZ45qivPA7"
      },
      "source": [
        "# Data Pre-Processing"
      ]
    },
    {
      "cell_type": "markdown",
      "metadata": {
        "id": "psp9DiamalYK"
      },
      "source": [
        "Creating directory "
      ]
    },
    {
      "cell_type": "code",
      "execution_count": null,
      "metadata": {
        "id": "qg1IJ6sIvRzb"
      },
      "outputs": [],
      "source": [
        "DATADIR = \"/content/drive/MyDrive/EDTS/KTP Classification /dataset_ktp\"\n",
        "CATEGORIES = ['fotocopy', 'real']"
      ]
    },
    {
      "cell_type": "markdown",
      "metadata": {
        "id": "kel3aYQ-bIMG"
      },
      "source": [
        "Luminance"
      ]
    },
    {
      "cell_type": "code",
      "execution_count": null,
      "metadata": {
        "id": "g69WwEoHbIQp"
      },
      "outputs": [],
      "source": [
        "luminance_data = []"
      ]
    },
    {
      "cell_type": "code",
      "execution_count": null,
      "metadata": {
        "id": "HoKSab6DbKkh"
      },
      "outputs": [],
      "source": [
        "def find_luminance():\n",
        "  for category in CATEGORIES: \n",
        "    # Determine path and indexing class \n",
        "    path = os.path.join(DATADIR,category)\n",
        "    class_num = CATEGORIES.index(category)\n",
        "    # For every image in path\n",
        "    for img in os.listdir(path):\n",
        "      # Reads image and then converts to HSV and take third channel\n",
        "      img_array = Image.open(os.path.join(path,img))\n",
        "      stat = ImageStat.Stat(img_array)\n",
        "      r,g,b = stat.rms\n",
        "      lum = math.sqrt(0.241*(r**2) + 0.691*(g**2) + 0.068*(b**2))\n",
        "      luminance_data.append([class_num, lum])\n",
        "\n",
        "find_luminance()"
      ]
    },
    {
      "cell_type": "code",
      "execution_count": null,
      "metadata": {
        "id": "EJx_WOHQbOHx"
      },
      "outputs": [],
      "source": [
        "main_df = pd.DataFrame(luminance_data, columns = ['Photo Label', 'Luminance'])"
      ]
    },
    {
      "cell_type": "markdown",
      "metadata": {
        "id": "mWhSxWwSfY3x"
      },
      "source": [
        "R,G,B Mean "
      ]
    },
    {
      "cell_type": "code",
      "execution_count": null,
      "metadata": {
        "id": "uxxdmpragfb6"
      },
      "outputs": [],
      "source": [
        "b_avg = []\n",
        "g_avg = []\n",
        "r_avg = []"
      ]
    },
    {
      "cell_type": "code",
      "execution_count": null,
      "metadata": {
        "id": "3mS_ras5ghmh"
      },
      "outputs": [],
      "source": [
        "def find_rgb_avg():\n",
        "  for category in CATEGORIES: \n",
        "    # Determine path and indexing class \n",
        "    path = os.path.join(DATADIR,category)\n",
        "    class_num = CATEGORIES.index(category)\n",
        "    # For every image in path\n",
        "    for img in os.listdir(path):\n",
        "      # Reads image and then converts to HSV and splits the RGB channels\n",
        "      img_array = cv2.imread(os.path.join(path,img))\n",
        "      b_arr, g_arr, r_arr = cv2.split(img_array)\n",
        "      # Get the average of the rows of B values in a picture\n",
        "      b_mean_row = np.average(b_arr, axis=0)\n",
        "      g_mean_row = np.average(g_arr, axis=0)\n",
        "      r_mean_row = np.average(r_arr, axis=0)\n",
        "      # Average again the total B values in a single picture (X and Y)\n",
        "      b = np.average(b_mean_row, axis = 0)\n",
        "      g = np.average(g_mean_row, axis = 0)\n",
        "      r = np.average(r_mean_row, axis = 0)\n",
        "      # Append values to the list \n",
        "      b_avg.append(b)\n",
        "      g_avg.append(g)\n",
        "      r_avg.append(r)\n",
        "      \n",
        "find_rgb_avg() "
      ]
    },
    {
      "cell_type": "code",
      "execution_count": null,
      "metadata": {
        "id": "zn7R8RPZglNh"
      },
      "outputs": [],
      "source": [
        "main_df['R Mean'] = r_avg\n",
        "main_df['G Mean'] = g_avg\n",
        "main_df['B Mean'] = b_avg"
      ]
    },
    {
      "cell_type": "code",
      "execution_count": null,
      "metadata": {
        "colab": {
          "base_uri": "https://localhost:8080/"
        },
        "id": "uikK1qTvhOUi",
        "outputId": "6c0d1e14-be3f-4b29-a0ae-80b4231feb13"
      },
      "outputs": [
        {
          "output_type": "execute_result",
          "data": {
            "text/plain": [
              "   Photo Label   Luminance      R Mean      G Mean      B Mean\n",
              "0            0  108.015872   94.084645   89.826063   89.760041\n",
              "1            0  152.420934  147.113395  145.296944  143.911775\n",
              "2            0  175.078256  185.539143  169.691959  156.873306\n",
              "3            0  124.114468  114.699943  110.439527  109.353926\n",
              "4            0  105.774837  100.529764  101.124736  100.981274"
            ],
            "text/html": [
              "\n",
              "  <div id=\"df-a602c587-ce7f-4189-96c2-4c0ad9b840ba\">\n",
              "    <div class=\"colab-df-container\">\n",
              "      <div>\n",
              "<style scoped>\n",
              "    .dataframe tbody tr th:only-of-type {\n",
              "        vertical-align: middle;\n",
              "    }\n",
              "\n",
              "    .dataframe tbody tr th {\n",
              "        vertical-align: top;\n",
              "    }\n",
              "\n",
              "    .dataframe thead th {\n",
              "        text-align: right;\n",
              "    }\n",
              "</style>\n",
              "<table border=\"1\" class=\"dataframe\">\n",
              "  <thead>\n",
              "    <tr style=\"text-align: right;\">\n",
              "      <th></th>\n",
              "      <th>Photo Label</th>\n",
              "      <th>Luminance</th>\n",
              "      <th>R Mean</th>\n",
              "      <th>G Mean</th>\n",
              "      <th>B Mean</th>\n",
              "    </tr>\n",
              "  </thead>\n",
              "  <tbody>\n",
              "    <tr>\n",
              "      <th>0</th>\n",
              "      <td>0</td>\n",
              "      <td>108.015872</td>\n",
              "      <td>94.084645</td>\n",
              "      <td>89.826063</td>\n",
              "      <td>89.760041</td>\n",
              "    </tr>\n",
              "    <tr>\n",
              "      <th>1</th>\n",
              "      <td>0</td>\n",
              "      <td>152.420934</td>\n",
              "      <td>147.113395</td>\n",
              "      <td>145.296944</td>\n",
              "      <td>143.911775</td>\n",
              "    </tr>\n",
              "    <tr>\n",
              "      <th>2</th>\n",
              "      <td>0</td>\n",
              "      <td>175.078256</td>\n",
              "      <td>185.539143</td>\n",
              "      <td>169.691959</td>\n",
              "      <td>156.873306</td>\n",
              "    </tr>\n",
              "    <tr>\n",
              "      <th>3</th>\n",
              "      <td>0</td>\n",
              "      <td>124.114468</td>\n",
              "      <td>114.699943</td>\n",
              "      <td>110.439527</td>\n",
              "      <td>109.353926</td>\n",
              "    </tr>\n",
              "    <tr>\n",
              "      <th>4</th>\n",
              "      <td>0</td>\n",
              "      <td>105.774837</td>\n",
              "      <td>100.529764</td>\n",
              "      <td>101.124736</td>\n",
              "      <td>100.981274</td>\n",
              "    </tr>\n",
              "  </tbody>\n",
              "</table>\n",
              "</div>\n",
              "      <button class=\"colab-df-convert\" onclick=\"convertToInteractive('df-a602c587-ce7f-4189-96c2-4c0ad9b840ba')\"\n",
              "              title=\"Convert this dataframe to an interactive table.\"\n",
              "              style=\"display:none;\">\n",
              "        \n",
              "  <svg xmlns=\"http://www.w3.org/2000/svg\" height=\"24px\"viewBox=\"0 0 24 24\"\n",
              "       width=\"24px\">\n",
              "    <path d=\"M0 0h24v24H0V0z\" fill=\"none\"/>\n",
              "    <path d=\"M18.56 5.44l.94 2.06.94-2.06 2.06-.94-2.06-.94-.94-2.06-.94 2.06-2.06.94zm-11 1L8.5 8.5l.94-2.06 2.06-.94-2.06-.94L8.5 2.5l-.94 2.06-2.06.94zm10 10l.94 2.06.94-2.06 2.06-.94-2.06-.94-.94-2.06-.94 2.06-2.06.94z\"/><path d=\"M17.41 7.96l-1.37-1.37c-.4-.4-.92-.59-1.43-.59-.52 0-1.04.2-1.43.59L10.3 9.45l-7.72 7.72c-.78.78-.78 2.05 0 2.83L4 21.41c.39.39.9.59 1.41.59.51 0 1.02-.2 1.41-.59l7.78-7.78 2.81-2.81c.8-.78.8-2.07 0-2.86zM5.41 20L4 18.59l7.72-7.72 1.47 1.35L5.41 20z\"/>\n",
              "  </svg>\n",
              "      </button>\n",
              "      \n",
              "  <style>\n",
              "    .colab-df-container {\n",
              "      display:flex;\n",
              "      flex-wrap:wrap;\n",
              "      gap: 12px;\n",
              "    }\n",
              "\n",
              "    .colab-df-convert {\n",
              "      background-color: #E8F0FE;\n",
              "      border: none;\n",
              "      border-radius: 50%;\n",
              "      cursor: pointer;\n",
              "      display: none;\n",
              "      fill: #1967D2;\n",
              "      height: 32px;\n",
              "      padding: 0 0 0 0;\n",
              "      width: 32px;\n",
              "    }\n",
              "\n",
              "    .colab-df-convert:hover {\n",
              "      background-color: #E2EBFA;\n",
              "      box-shadow: 0px 1px 2px rgba(60, 64, 67, 0.3), 0px 1px 3px 1px rgba(60, 64, 67, 0.15);\n",
              "      fill: #174EA6;\n",
              "    }\n",
              "\n",
              "    [theme=dark] .colab-df-convert {\n",
              "      background-color: #3B4455;\n",
              "      fill: #D2E3FC;\n",
              "    }\n",
              "\n",
              "    [theme=dark] .colab-df-convert:hover {\n",
              "      background-color: #434B5C;\n",
              "      box-shadow: 0px 1px 3px 1px rgba(0, 0, 0, 0.15);\n",
              "      filter: drop-shadow(0px 1px 2px rgba(0, 0, 0, 0.3));\n",
              "      fill: #FFFFFF;\n",
              "    }\n",
              "  </style>\n",
              "\n",
              "      <script>\n",
              "        const buttonEl =\n",
              "          document.querySelector('#df-a602c587-ce7f-4189-96c2-4c0ad9b840ba button.colab-df-convert');\n",
              "        buttonEl.style.display =\n",
              "          google.colab.kernel.accessAllowed ? 'block' : 'none';\n",
              "\n",
              "        async function convertToInteractive(key) {\n",
              "          const element = document.querySelector('#df-a602c587-ce7f-4189-96c2-4c0ad9b840ba');\n",
              "          const dataTable =\n",
              "            await google.colab.kernel.invokeFunction('convertToInteractive',\n",
              "                                                     [key], {});\n",
              "          if (!dataTable) return;\n",
              "\n",
              "          const docLinkHtml = 'Like what you see? Visit the ' +\n",
              "            '<a target=\"_blank\" href=https://colab.research.google.com/notebooks/data_table.ipynb>data table notebook</a>'\n",
              "            + ' to learn more about interactive tables.';\n",
              "          element.innerHTML = '';\n",
              "          dataTable['output_type'] = 'display_data';\n",
              "          await google.colab.output.renderOutput(dataTable, element);\n",
              "          const docLink = document.createElement('div');\n",
              "          docLink.innerHTML = docLinkHtml;\n",
              "          element.appendChild(docLink);\n",
              "        }\n",
              "      </script>\n",
              "    </div>\n",
              "  </div>\n",
              "  "
            ]
          },
          "metadata": {},
          "execution_count": 10
        }
      ],
      "source": [
        "main_df.head()"
      ]
    },
    {
      "cell_type": "markdown",
      "metadata": {
        "id": "59-vN42ikxoJ"
      },
      "source": [
        "R,G,B Variance"
      ]
    },
    {
      "cell_type": "code",
      "execution_count": null,
      "metadata": {
        "id": "5AA7ilORlFCZ"
      },
      "outputs": [],
      "source": [
        "b_var = []\n",
        "g_var = []\n",
        "r_var = []"
      ]
    },
    {
      "cell_type": "code",
      "execution_count": null,
      "metadata": {
        "id": "PJL6f_-slKKh"
      },
      "outputs": [],
      "source": [
        "def find_rgb_var():\n",
        "  for category in CATEGORIES: \n",
        "    # Determine path and indexing class \n",
        "    path = os.path.join(DATADIR,category)\n",
        "    class_num = CATEGORIES.index(category)\n",
        "    # For every image in path\n",
        "    for img in os.listdir(path):\n",
        "      # Reads image and then converts to HSV and take third channel\n",
        "      img_array = cv2.imread(os.path.join(path,img))\n",
        "      b_arr, g_arr, r_arr = cv2.split(img_array)\n",
        "      # Finding variance using scipy package\n",
        "      b  = ndimage.variance(b_arr)\n",
        "      g = ndimage.variance(g_arr)\n",
        "      r = ndimage.variance(r_arr)\n",
        "      # Append values to list \n",
        "      b_var.append(b)\n",
        "      g_var.append(g)\n",
        "      r_var.append(r)\n",
        "      \n",
        "find_rgb_var()"
      ]
    },
    {
      "cell_type": "code",
      "execution_count": null,
      "metadata": {
        "id": "MpNX0eiUltmS"
      },
      "outputs": [],
      "source": [
        "main_df['R Variance'] = r_var\n",
        "main_df['G Variance'] = g_var\n",
        "main_df['B Variance'] = b_var"
      ]
    },
    {
      "cell_type": "markdown",
      "metadata": {
        "id": "_sOg-GGdl5gX"
      },
      "source": [
        "Gray Variance"
      ]
    },
    {
      "cell_type": "code",
      "execution_count": null,
      "metadata": {
        "id": "XGEUB_Awl_hn"
      },
      "outputs": [],
      "source": [
        "var_gray = []"
      ]
    },
    {
      "cell_type": "code",
      "execution_count": null,
      "metadata": {
        "id": "NymMSDxSmTrB"
      },
      "outputs": [],
      "source": [
        "def find_gray_var():\n",
        "  for category in CATEGORIES: \n",
        "    # Determine path and indexing class \n",
        "    path = os.path.join(DATADIR,category)\n",
        "    class_num = CATEGORIES.index(category)\n",
        "    # For every image in path\n",
        "    for img in os.listdir(path):\n",
        "      # Reads image and then converts to HSV and take third channel\n",
        "      img_array = cv2.imread(os.path.join(path,img), cv2.IMREAD_GRAYSCALE)\n",
        "      laplacian = ndimage.laplace(img_array).var()\n",
        "      var_gray.append(laplacian)\n",
        "\n",
        "find_gray_var()"
      ]
    },
    {
      "cell_type": "code",
      "execution_count": null,
      "metadata": {
        "id": "q3QHX8fmmVfL"
      },
      "outputs": [],
      "source": [
        "main_df['Gray Variance'] = var_gray"
      ]
    },
    {
      "cell_type": "markdown",
      "metadata": {
        "id": "Wg_vf2rVmegA"
      },
      "source": [
        "Blur "
      ]
    },
    {
      "cell_type": "code",
      "execution_count": null,
      "metadata": {
        "id": "gFwko_2bmx54"
      },
      "outputs": [],
      "source": [
        "blur_val = []"
      ]
    },
    {
      "cell_type": "code",
      "execution_count": null,
      "metadata": {
        "id": "JLYWeRU5nBkR"
      },
      "outputs": [],
      "source": [
        "def find_blur():\n",
        "  for category in CATEGORIES: \n",
        "    # Determine path and indexing class \n",
        "    path = os.path.join(DATADIR,category)\n",
        "    class_num = CATEGORIES.index(category)\n",
        "    # For every image in path\n",
        "    for img in os.listdir(path):\n",
        "      # Reads image and then converts to HSV and take third channel\n",
        "      img_array = cv2.imread(os.path.join(path,img))\n",
        "      blur = cv2.Laplacian(img_array, cv2.CV_64F).var()\n",
        "      blur_val.append(blur)\n",
        "\n",
        "find_blur()"
      ]
    },
    {
      "cell_type": "code",
      "execution_count": null,
      "metadata": {
        "id": "Ge75yChLnDLA"
      },
      "outputs": [],
      "source": [
        "main_df['Blur'] = blur_val"
      ]
    },
    {
      "cell_type": "markdown",
      "metadata": {
        "id": "4GHZvSS3mmDf"
      },
      "source": [
        "Sharpness"
      ]
    },
    {
      "cell_type": "code",
      "execution_count": null,
      "metadata": {
        "id": "RwVCOaKvmybg"
      },
      "outputs": [],
      "source": [
        "sharpness = []"
      ]
    },
    {
      "cell_type": "code",
      "execution_count": null,
      "metadata": {
        "id": "KcTq_hJRnvGE"
      },
      "outputs": [],
      "source": [
        "def find_sharpness():\n",
        "  for category in CATEGORIES: \n",
        "    # Determine path and indexing class \n",
        "    path = os.path.join(DATADIR,category)\n",
        "    class_num = CATEGORIES.index(category)\n",
        "    # For every image in path\n",
        "    for img in os.listdir(path):\n",
        "      # Reads image and then converts to HSV and take third channel\n",
        "      img_array = cv2.imread(os.path.join(path,img))\n",
        "      img_HLS_array = cv2.cvtColor(img_array, cv2.COLOR_BGR2HLS)\n",
        "      L = img_HLS_array[:, :, 1]\n",
        "      u = np.mean(L)\n",
        "      LP = cv2.Laplacian(L, cv2.CV_64F).var()\n",
        "      sharp = np.sum(LP / u)\n",
        "      sharpness.append(sharp)\n",
        "\n",
        "find_sharpness()"
      ]
    },
    {
      "cell_type": "code",
      "execution_count": null,
      "metadata": {
        "id": "8CgnLNZ-n1DY"
      },
      "outputs": [],
      "source": [
        "main_df['Sharpness'] = sharpness"
      ]
    },
    {
      "cell_type": "markdown",
      "metadata": {
        "id": "yQ_RJ0s6moc5"
      },
      "source": [
        "Distinct Pixel Rate "
      ]
    },
    {
      "cell_type": "code",
      "execution_count": null,
      "metadata": {
        "id": "25usqbe2my4w"
      },
      "outputs": [],
      "source": [
        "resolution = []"
      ]
    },
    {
      "cell_type": "code",
      "execution_count": null,
      "metadata": {
        "id": "sBevrRsqn-NK"
      },
      "outputs": [],
      "source": [
        "def find_resolution():\n",
        "  for category in CATEGORIES: \n",
        "    # Determine path and indexing class \n",
        "    path = os.path.join(DATADIR,category)\n",
        "    class_num = CATEGORIES.index(category)\n",
        "    # For every image in path\n",
        "    for img in os.listdir(path):\n",
        "      # Reads image and then converts to HSV and take third channel\n",
        "      img_array = cv2.imread(os.path.join(path,img))\n",
        "      height, width = img_array.shape[:2]\n",
        "      distinct_pix = height * width\n",
        "\n",
        "      resolution.append(distinct_pix)\n",
        "\n",
        "find_resolution()"
      ]
    },
    {
      "cell_type": "code",
      "execution_count": null,
      "metadata": {
        "id": "ZI95pu0bn_xR"
      },
      "outputs": [],
      "source": [
        "main_df['Resolution'] = resolution"
      ]
    },
    {
      "cell_type": "markdown",
      "metadata": {
        "id": "PLLa-1y0mrZY"
      },
      "source": [
        "Saturation"
      ]
    },
    {
      "cell_type": "code",
      "execution_count": null,
      "metadata": {
        "id": "p6JSzt6RmzWY"
      },
      "outputs": [],
      "source": [
        "saturation = []"
      ]
    },
    {
      "cell_type": "code",
      "execution_count": null,
      "metadata": {
        "id": "iXNJvTjuoJrp"
      },
      "outputs": [],
      "source": [
        "def find_saturation():\n",
        "  for category in CATEGORIES: \n",
        "    # Determine path and indexing class \n",
        "    path = os.path.join(DATADIR,category)\n",
        "    class_num = CATEGORIES.index(category)\n",
        "    # For every image in path\n",
        "    for img in os.listdir(path):\n",
        "      # Reads image and then converts to HSV and take third channel\n",
        "      img_array = cv2.imread(os.path.join(path,img))\n",
        "      img_HLS_array = cv2.cvtColor(img_array, cv2.COLOR_BGR2HLS)\n",
        "      sat = img_HLS_array[:, :, 1].mean()\n",
        "      \n",
        "      saturation.append(sat)\n",
        "\n",
        "find_saturation()"
      ]
    },
    {
      "cell_type": "code",
      "execution_count": null,
      "metadata": {
        "id": "3K4tqrbIoLMr"
      },
      "outputs": [],
      "source": [
        "main_df['Saturation'] = saturation"
      ]
    },
    {
      "cell_type": "markdown",
      "metadata": {
        "id": "nv-F3B1WmteX"
      },
      "source": [
        "Colorfulness"
      ]
    },
    {
      "cell_type": "code",
      "execution_count": null,
      "metadata": {
        "id": "GdfRPZjjmzvg"
      },
      "outputs": [],
      "source": [
        "colorfulness = []"
      ]
    },
    {
      "cell_type": "code",
      "execution_count": null,
      "metadata": {
        "id": "DCkjADK0oVLK"
      },
      "outputs": [],
      "source": [
        "def find_colorfulness():\n",
        "  for category in CATEGORIES: \n",
        "    # Determine path and indexing class \n",
        "    path = os.path.join(DATADIR,category)\n",
        "    class_num = CATEGORIES.index(category)\n",
        "    \n",
        "    # For every image in path\n",
        "    for img in os.listdir(path):\n",
        "      # Reads image and then converts to HSV and take third channel\n",
        "      img_array = cv2.imread(os.path.join(path,img))\n",
        "      # split the image into its respective RGB components\n",
        "      (B, G, R) = cv2.split(img_array.astype(\"float\"))\n",
        "      # compute rg = R - G\n",
        "      rg = np.absolute(R - G)\n",
        "      # compute yb = 0.5 * (R + G) - B\n",
        "      yb = np.absolute(0.5 * (R + G) - B)\n",
        "      # compute the mean and standard deviation of both `rg` and `yb`\n",
        "      (rbMean, rbStd) = (np.mean(rg), np.std(rg))\n",
        "      (ybMean, ybStd) = (np.mean(yb), np.std(yb))\n",
        "      # combine the mean and standard deviations\n",
        "      stdRoot = np.sqrt((rbStd ** 2) + (ybStd ** 2))\n",
        "      meanRoot = np.sqrt((rbMean ** 2) + (ybMean ** 2))\n",
        "      # derive the \"colorfulness\" metric and return it\n",
        "      colorful = stdRoot + (0.3 * meanRoot)\n",
        "      \n",
        "      colorfulness.append(colorful)\n",
        "\n",
        "find_colorfulness()"
      ]
    },
    {
      "cell_type": "code",
      "execution_count": null,
      "metadata": {
        "id": "-bQG2WgyoXdH"
      },
      "outputs": [],
      "source": [
        "main_df['Colorfulness'] = colorfulness"
      ]
    },
    {
      "cell_type": "markdown",
      "metadata": {
        "id": "6SaQt8_NoduU"
      },
      "source": [
        "Printing the DataFrame Constructed"
      ]
    },
    {
      "cell_type": "code",
      "execution_count": null,
      "metadata": {
        "colab": {
          "base_uri": "https://localhost:8080/"
        },
        "id": "078sDvW7og3J",
        "outputId": "67d196b3-f4b7-45da-8f17-75f38741bd6a"
      },
      "outputs": [
        {
          "output_type": "execute_result",
          "data": {
            "text/plain": [
              "   Photo Label   Luminance      R Mean      G Mean      B Mean   R Variance  \\\n",
              "0            0  108.015872   94.084645   89.826063   89.760041  3140.660225   \n",
              "1            0  152.420934  147.113395  145.296944  143.911775  1960.778592   \n",
              "2            0  175.078256  185.539143  169.691959  156.873306   772.147733   \n",
              "3            0  124.114468  114.699943  110.439527  109.353926  2667.221786   \n",
              "4            0  105.774837  100.529764  101.124736  100.981274   986.460310   \n",
              "\n",
              "    G Variance   B Variance  Gray Variance         Blur  Sharpness  \\\n",
              "0  3457.591306  3891.504497   11394.115528   979.797994  10.668554   \n",
              "1  2030.408707  2065.324670    7847.201504  3587.070781  24.669289   \n",
              "2   789.514703   819.591336   13014.157600   551.180912   3.229098   \n",
              "3  3094.870946  3111.011797   13895.018146   196.655125   1.755649   \n",
              "4   996.568841   994.046831   12009.326236  1187.462301  11.775583   \n",
              "\n",
              "   Resolution  Saturation  Colorfulness  \n",
              "0      111040   92.011807      6.582818  \n",
              "1       64800  145.665772      3.851335  \n",
              "2       49000  171.468143     11.803814  \n",
              "3       70560  112.047222      6.311370  \n",
              "4       55806  100.832581      1.652960  "
            ],
            "text/html": [
              "\n",
              "  <div id=\"df-e01be0ef-2644-4d84-90fd-74fe0a930d9c\">\n",
              "    <div class=\"colab-df-container\">\n",
              "      <div>\n",
              "<style scoped>\n",
              "    .dataframe tbody tr th:only-of-type {\n",
              "        vertical-align: middle;\n",
              "    }\n",
              "\n",
              "    .dataframe tbody tr th {\n",
              "        vertical-align: top;\n",
              "    }\n",
              "\n",
              "    .dataframe thead th {\n",
              "        text-align: right;\n",
              "    }\n",
              "</style>\n",
              "<table border=\"1\" class=\"dataframe\">\n",
              "  <thead>\n",
              "    <tr style=\"text-align: right;\">\n",
              "      <th></th>\n",
              "      <th>Photo Label</th>\n",
              "      <th>Luminance</th>\n",
              "      <th>R Mean</th>\n",
              "      <th>G Mean</th>\n",
              "      <th>B Mean</th>\n",
              "      <th>R Variance</th>\n",
              "      <th>G Variance</th>\n",
              "      <th>B Variance</th>\n",
              "      <th>Gray Variance</th>\n",
              "      <th>Blur</th>\n",
              "      <th>Sharpness</th>\n",
              "      <th>Resolution</th>\n",
              "      <th>Saturation</th>\n",
              "      <th>Colorfulness</th>\n",
              "    </tr>\n",
              "  </thead>\n",
              "  <tbody>\n",
              "    <tr>\n",
              "      <th>0</th>\n",
              "      <td>0</td>\n",
              "      <td>108.015872</td>\n",
              "      <td>94.084645</td>\n",
              "      <td>89.826063</td>\n",
              "      <td>89.760041</td>\n",
              "      <td>3140.660225</td>\n",
              "      <td>3457.591306</td>\n",
              "      <td>3891.504497</td>\n",
              "      <td>11394.115528</td>\n",
              "      <td>979.797994</td>\n",
              "      <td>10.668554</td>\n",
              "      <td>111040</td>\n",
              "      <td>92.011807</td>\n",
              "      <td>6.582818</td>\n",
              "    </tr>\n",
              "    <tr>\n",
              "      <th>1</th>\n",
              "      <td>0</td>\n",
              "      <td>152.420934</td>\n",
              "      <td>147.113395</td>\n",
              "      <td>145.296944</td>\n",
              "      <td>143.911775</td>\n",
              "      <td>1960.778592</td>\n",
              "      <td>2030.408707</td>\n",
              "      <td>2065.324670</td>\n",
              "      <td>7847.201504</td>\n",
              "      <td>3587.070781</td>\n",
              "      <td>24.669289</td>\n",
              "      <td>64800</td>\n",
              "      <td>145.665772</td>\n",
              "      <td>3.851335</td>\n",
              "    </tr>\n",
              "    <tr>\n",
              "      <th>2</th>\n",
              "      <td>0</td>\n",
              "      <td>175.078256</td>\n",
              "      <td>185.539143</td>\n",
              "      <td>169.691959</td>\n",
              "      <td>156.873306</td>\n",
              "      <td>772.147733</td>\n",
              "      <td>789.514703</td>\n",
              "      <td>819.591336</td>\n",
              "      <td>13014.157600</td>\n",
              "      <td>551.180912</td>\n",
              "      <td>3.229098</td>\n",
              "      <td>49000</td>\n",
              "      <td>171.468143</td>\n",
              "      <td>11.803814</td>\n",
              "    </tr>\n",
              "    <tr>\n",
              "      <th>3</th>\n",
              "      <td>0</td>\n",
              "      <td>124.114468</td>\n",
              "      <td>114.699943</td>\n",
              "      <td>110.439527</td>\n",
              "      <td>109.353926</td>\n",
              "      <td>2667.221786</td>\n",
              "      <td>3094.870946</td>\n",
              "      <td>3111.011797</td>\n",
              "      <td>13895.018146</td>\n",
              "      <td>196.655125</td>\n",
              "      <td>1.755649</td>\n",
              "      <td>70560</td>\n",
              "      <td>112.047222</td>\n",
              "      <td>6.311370</td>\n",
              "    </tr>\n",
              "    <tr>\n",
              "      <th>4</th>\n",
              "      <td>0</td>\n",
              "      <td>105.774837</td>\n",
              "      <td>100.529764</td>\n",
              "      <td>101.124736</td>\n",
              "      <td>100.981274</td>\n",
              "      <td>986.460310</td>\n",
              "      <td>996.568841</td>\n",
              "      <td>994.046831</td>\n",
              "      <td>12009.326236</td>\n",
              "      <td>1187.462301</td>\n",
              "      <td>11.775583</td>\n",
              "      <td>55806</td>\n",
              "      <td>100.832581</td>\n",
              "      <td>1.652960</td>\n",
              "    </tr>\n",
              "  </tbody>\n",
              "</table>\n",
              "</div>\n",
              "      <button class=\"colab-df-convert\" onclick=\"convertToInteractive('df-e01be0ef-2644-4d84-90fd-74fe0a930d9c')\"\n",
              "              title=\"Convert this dataframe to an interactive table.\"\n",
              "              style=\"display:none;\">\n",
              "        \n",
              "  <svg xmlns=\"http://www.w3.org/2000/svg\" height=\"24px\"viewBox=\"0 0 24 24\"\n",
              "       width=\"24px\">\n",
              "    <path d=\"M0 0h24v24H0V0z\" fill=\"none\"/>\n",
              "    <path d=\"M18.56 5.44l.94 2.06.94-2.06 2.06-.94-2.06-.94-.94-2.06-.94 2.06-2.06.94zm-11 1L8.5 8.5l.94-2.06 2.06-.94-2.06-.94L8.5 2.5l-.94 2.06-2.06.94zm10 10l.94 2.06.94-2.06 2.06-.94-2.06-.94-.94-2.06-.94 2.06-2.06.94z\"/><path d=\"M17.41 7.96l-1.37-1.37c-.4-.4-.92-.59-1.43-.59-.52 0-1.04.2-1.43.59L10.3 9.45l-7.72 7.72c-.78.78-.78 2.05 0 2.83L4 21.41c.39.39.9.59 1.41.59.51 0 1.02-.2 1.41-.59l7.78-7.78 2.81-2.81c.8-.78.8-2.07 0-2.86zM5.41 20L4 18.59l7.72-7.72 1.47 1.35L5.41 20z\"/>\n",
              "  </svg>\n",
              "      </button>\n",
              "      \n",
              "  <style>\n",
              "    .colab-df-container {\n",
              "      display:flex;\n",
              "      flex-wrap:wrap;\n",
              "      gap: 12px;\n",
              "    }\n",
              "\n",
              "    .colab-df-convert {\n",
              "      background-color: #E8F0FE;\n",
              "      border: none;\n",
              "      border-radius: 50%;\n",
              "      cursor: pointer;\n",
              "      display: none;\n",
              "      fill: #1967D2;\n",
              "      height: 32px;\n",
              "      padding: 0 0 0 0;\n",
              "      width: 32px;\n",
              "    }\n",
              "\n",
              "    .colab-df-convert:hover {\n",
              "      background-color: #E2EBFA;\n",
              "      box-shadow: 0px 1px 2px rgba(60, 64, 67, 0.3), 0px 1px 3px 1px rgba(60, 64, 67, 0.15);\n",
              "      fill: #174EA6;\n",
              "    }\n",
              "\n",
              "    [theme=dark] .colab-df-convert {\n",
              "      background-color: #3B4455;\n",
              "      fill: #D2E3FC;\n",
              "    }\n",
              "\n",
              "    [theme=dark] .colab-df-convert:hover {\n",
              "      background-color: #434B5C;\n",
              "      box-shadow: 0px 1px 3px 1px rgba(0, 0, 0, 0.15);\n",
              "      filter: drop-shadow(0px 1px 2px rgba(0, 0, 0, 0.3));\n",
              "      fill: #FFFFFF;\n",
              "    }\n",
              "  </style>\n",
              "\n",
              "      <script>\n",
              "        const buttonEl =\n",
              "          document.querySelector('#df-e01be0ef-2644-4d84-90fd-74fe0a930d9c button.colab-df-convert');\n",
              "        buttonEl.style.display =\n",
              "          google.colab.kernel.accessAllowed ? 'block' : 'none';\n",
              "\n",
              "        async function convertToInteractive(key) {\n",
              "          const element = document.querySelector('#df-e01be0ef-2644-4d84-90fd-74fe0a930d9c');\n",
              "          const dataTable =\n",
              "            await google.colab.kernel.invokeFunction('convertToInteractive',\n",
              "                                                     [key], {});\n",
              "          if (!dataTable) return;\n",
              "\n",
              "          const docLinkHtml = 'Like what you see? Visit the ' +\n",
              "            '<a target=\"_blank\" href=https://colab.research.google.com/notebooks/data_table.ipynb>data table notebook</a>'\n",
              "            + ' to learn more about interactive tables.';\n",
              "          element.innerHTML = '';\n",
              "          dataTable['output_type'] = 'display_data';\n",
              "          await google.colab.output.renderOutput(dataTable, element);\n",
              "          const docLink = document.createElement('div');\n",
              "          docLink.innerHTML = docLinkHtml;\n",
              "          element.appendChild(docLink);\n",
              "        }\n",
              "      </script>\n",
              "    </div>\n",
              "  </div>\n",
              "  "
            ]
          },
          "metadata": {},
          "execution_count": 32
        }
      ],
      "source": [
        "main_df.head()"
      ]
    },
    {
      "cell_type": "markdown",
      "metadata": {
        "id": "6M18bLX4vHHP"
      },
      "source": [
        "# Model Building and Training"
      ]
    },
    {
      "cell_type": "markdown",
      "metadata": {
        "id": "AOAiLBgptb1E"
      },
      "source": [
        "Import all the necessary packages"
      ]
    },
    {
      "cell_type": "code",
      "execution_count": null,
      "metadata": {
        "colab": {
          "base_uri": "https://localhost:8080/"
        },
        "id": "ks3YmSeAjOmE",
        "outputId": "1a7ebfa3-a556-44a4-b0bd-c46007b8e24e"
      },
      "outputs": [
        {
          "output_type": "stream",
          "name": "stdout",
          "text": [
            "Looking in indexes: https://pypi.org/simple, https://us-python.pkg.dev/colab-wheels/public/simple/\n",
            "Requirement already satisfied: tensorflow in /usr/local/lib/python3.7/dist-packages (2.8.2+zzzcolab20220719082949)\n",
            "Requirement already satisfied: tensorflow-estimator<2.9,>=2.8 in /usr/local/lib/python3.7/dist-packages (from tensorflow) (2.8.0)\n",
            "Requirement already satisfied: absl-py>=0.4.0 in /usr/local/lib/python3.7/dist-packages (from tensorflow) (1.2.0)\n",
            "Requirement already satisfied: astunparse>=1.6.0 in /usr/local/lib/python3.7/dist-packages (from tensorflow) (1.6.3)\n",
            "Requirement already satisfied: protobuf<3.20,>=3.9.2 in /usr/local/lib/python3.7/dist-packages (from tensorflow) (3.17.3)\n",
            "Requirement already satisfied: numpy>=1.20 in /usr/local/lib/python3.7/dist-packages (from tensorflow) (1.21.6)\n",
            "Requirement already satisfied: grpcio<2.0,>=1.24.3 in /usr/local/lib/python3.7/dist-packages (from tensorflow) (1.47.0)\n",
            "Requirement already satisfied: keras<2.9,>=2.8.0rc0 in /usr/local/lib/python3.7/dist-packages (from tensorflow) (2.8.0)\n",
            "Requirement already satisfied: termcolor>=1.1.0 in /usr/local/lib/python3.7/dist-packages (from tensorflow) (1.1.0)\n",
            "Requirement already satisfied: wrapt>=1.11.0 in /usr/local/lib/python3.7/dist-packages (from tensorflow) (1.14.1)\n",
            "Requirement already satisfied: opt-einsum>=2.3.2 in /usr/local/lib/python3.7/dist-packages (from tensorflow) (3.3.0)\n",
            "Requirement already satisfied: flatbuffers>=1.12 in /usr/local/lib/python3.7/dist-packages (from tensorflow) (2.0)\n",
            "Requirement already satisfied: h5py>=2.9.0 in /usr/local/lib/python3.7/dist-packages (from tensorflow) (3.1.0)\n",
            "Requirement already satisfied: libclang>=9.0.1 in /usr/local/lib/python3.7/dist-packages (from tensorflow) (14.0.6)\n",
            "Requirement already satisfied: google-pasta>=0.1.1 in /usr/local/lib/python3.7/dist-packages (from tensorflow) (0.2.0)\n",
            "Requirement already satisfied: tensorboard<2.9,>=2.8 in /usr/local/lib/python3.7/dist-packages (from tensorflow) (2.8.0)\n",
            "Requirement already satisfied: setuptools in /usr/local/lib/python3.7/dist-packages (from tensorflow) (57.4.0)\n",
            "Requirement already satisfied: typing-extensions>=3.6.6 in /usr/local/lib/python3.7/dist-packages (from tensorflow) (4.1.1)\n",
            "Requirement already satisfied: six>=1.12.0 in /usr/local/lib/python3.7/dist-packages (from tensorflow) (1.15.0)\n",
            "Requirement already satisfied: keras-preprocessing>=1.1.1 in /usr/local/lib/python3.7/dist-packages (from tensorflow) (1.1.2)\n",
            "Requirement already satisfied: tensorflow-io-gcs-filesystem>=0.23.1 in /usr/local/lib/python3.7/dist-packages (from tensorflow) (0.26.0)\n",
            "Requirement already satisfied: gast>=0.2.1 in /usr/local/lib/python3.7/dist-packages (from tensorflow) (0.5.3)\n",
            "Requirement already satisfied: wheel<1.0,>=0.23.0 in /usr/local/lib/python3.7/dist-packages (from astunparse>=1.6.0->tensorflow) (0.37.1)\n",
            "Requirement already satisfied: cached-property in /usr/local/lib/python3.7/dist-packages (from h5py>=2.9.0->tensorflow) (1.5.2)\n",
            "Requirement already satisfied: tensorboard-data-server<0.7.0,>=0.6.0 in /usr/local/lib/python3.7/dist-packages (from tensorboard<2.9,>=2.8->tensorflow) (0.6.1)\n",
            "Requirement already satisfied: google-auth-oauthlib<0.5,>=0.4.1 in /usr/local/lib/python3.7/dist-packages (from tensorboard<2.9,>=2.8->tensorflow) (0.4.6)\n",
            "Requirement already satisfied: google-auth<3,>=1.6.3 in /usr/local/lib/python3.7/dist-packages (from tensorboard<2.9,>=2.8->tensorflow) (1.35.0)\n",
            "Requirement already satisfied: requests<3,>=2.21.0 in /usr/local/lib/python3.7/dist-packages (from tensorboard<2.9,>=2.8->tensorflow) (2.23.0)\n",
            "Requirement already satisfied: tensorboard-plugin-wit>=1.6.0 in /usr/local/lib/python3.7/dist-packages (from tensorboard<2.9,>=2.8->tensorflow) (1.8.1)\n",
            "Requirement already satisfied: werkzeug>=0.11.15 in /usr/local/lib/python3.7/dist-packages (from tensorboard<2.9,>=2.8->tensorflow) (1.0.1)\n",
            "Requirement already satisfied: markdown>=2.6.8 in /usr/local/lib/python3.7/dist-packages (from tensorboard<2.9,>=2.8->tensorflow) (3.4.1)\n",
            "Requirement already satisfied: pyasn1-modules>=0.2.1 in /usr/local/lib/python3.7/dist-packages (from google-auth<3,>=1.6.3->tensorboard<2.9,>=2.8->tensorflow) (0.2.8)\n",
            "Requirement already satisfied: rsa<5,>=3.1.4 in /usr/local/lib/python3.7/dist-packages (from google-auth<3,>=1.6.3->tensorboard<2.9,>=2.8->tensorflow) (4.9)\n",
            "Requirement already satisfied: cachetools<5.0,>=2.0.0 in /usr/local/lib/python3.7/dist-packages (from google-auth<3,>=1.6.3->tensorboard<2.9,>=2.8->tensorflow) (4.2.4)\n",
            "Requirement already satisfied: requests-oauthlib>=0.7.0 in /usr/local/lib/python3.7/dist-packages (from google-auth-oauthlib<0.5,>=0.4.1->tensorboard<2.9,>=2.8->tensorflow) (1.3.1)\n",
            "Requirement already satisfied: importlib-metadata>=4.4 in /usr/local/lib/python3.7/dist-packages (from markdown>=2.6.8->tensorboard<2.9,>=2.8->tensorflow) (4.12.0)\n",
            "Requirement already satisfied: zipp>=0.5 in /usr/local/lib/python3.7/dist-packages (from importlib-metadata>=4.4->markdown>=2.6.8->tensorboard<2.9,>=2.8->tensorflow) (3.8.1)\n",
            "Requirement already satisfied: pyasn1<0.5.0,>=0.4.6 in /usr/local/lib/python3.7/dist-packages (from pyasn1-modules>=0.2.1->google-auth<3,>=1.6.3->tensorboard<2.9,>=2.8->tensorflow) (0.4.8)\n",
            "Requirement already satisfied: idna<3,>=2.5 in /usr/local/lib/python3.7/dist-packages (from requests<3,>=2.21.0->tensorboard<2.9,>=2.8->tensorflow) (2.10)\n",
            "Requirement already satisfied: urllib3!=1.25.0,!=1.25.1,<1.26,>=1.21.1 in /usr/local/lib/python3.7/dist-packages (from requests<3,>=2.21.0->tensorboard<2.9,>=2.8->tensorflow) (1.24.3)\n",
            "Requirement already satisfied: chardet<4,>=3.0.2 in /usr/local/lib/python3.7/dist-packages (from requests<3,>=2.21.0->tensorboard<2.9,>=2.8->tensorflow) (3.0.4)\n",
            "Requirement already satisfied: certifi>=2017.4.17 in /usr/local/lib/python3.7/dist-packages (from requests<3,>=2.21.0->tensorboard<2.9,>=2.8->tensorflow) (2022.6.15)\n",
            "Requirement already satisfied: oauthlib>=3.0.0 in /usr/local/lib/python3.7/dist-packages (from requests-oauthlib>=0.7.0->google-auth-oauthlib<0.5,>=0.4.1->tensorboard<2.9,>=2.8->tensorflow) (3.2.0)\n"
          ]
        }
      ],
      "source": [
        "# scaling data and train test split\n",
        "from sklearn.preprocessing import StandardScaler\n",
        "from sklearn.model_selection import train_test_split\n",
        "# packages for creating the layers of CNN \n",
        "!pip install tensorflow\n",
        "import tensorflow as tf\n",
        "from tensorflow import keras\n",
        "from tensorflow.keras import layers\n",
        "from tensorflow.keras.optimizers import Adam\n",
        "from tensorflow.keras.models import model_from_json\n",
        "from tensorflow.keras.wrappers.scikit_learn import KerasClassifier\n",
        "# package for learning the different metrics\n",
        "from sklearn.metrics import classification_report,confusion_matrix\n",
        "from sklearn.utils import shuffle\n",
        "from sklearn import preprocessing"
      ]
    },
    {
      "cell_type": "markdown",
      "metadata": {
        "id": "wxmXwFsb2rK7"
      },
      "source": [
        "Shuffle dataset"
      ]
    },
    {
      "cell_type": "code",
      "execution_count": null,
      "metadata": {
        "colab": {
          "base_uri": "https://localhost:8080/",
          "height": 287
        },
        "id": "5DYh0t_B2rP1",
        "outputId": "37830659-2306-41cb-8b94-bcac9ece850f"
      },
      "outputs": [
        {
          "output_type": "execute_result",
          "data": {
            "text/plain": [
              "   Photo Label   Luminance      R Mean      G Mean      B Mean   R Variance  \\\n",
              "0            1  153.272495  113.110771  151.538866  201.937483  1591.746068   \n",
              "1            1  131.341993  109.416020  128.867360  139.108675  1368.381722   \n",
              "2            0  119.183109  110.412764  106.682788  104.270633  2666.747855   \n",
              "3            1  199.621119  176.679191  199.546877  219.567619  1572.987437   \n",
              "4            0  148.839143  144.932863  141.368524  141.399736  1908.715625   \n",
              "\n",
              "    G Variance   B Variance  Gray Variance         Blur  Sharpness  \\\n",
              "0  1878.529799  1253.553320   15064.968154    72.384518   0.460513   \n",
              "1  1630.719701  1720.435224   11643.163752   957.856866   7.699148   \n",
              "2  2665.400210  2610.129923   13242.390610   317.974513   2.965231   \n",
              "3  1527.282689  1412.218088   11629.398058  3698.608515  18.634622   \n",
              "4  1923.009674  1931.605410   12298.442205  1057.951630   7.405984   \n",
              "\n",
              "   Resolution  Saturation  Colorfulness  \n",
              "0      128030  156.259306     69.703962  \n",
              "1      242724  124.501504     19.799284  \n",
              "2      124800  107.572260      3.764623  \n",
              "3       25311  197.095532     33.657900  \n",
              "4       45400  142.988921      3.916884  "
            ],
            "text/html": [
              "\n",
              "  <div id=\"df-e99010a0-7eb7-4c41-94e9-c588611e4582\">\n",
              "    <div class=\"colab-df-container\">\n",
              "      <div>\n",
              "<style scoped>\n",
              "    .dataframe tbody tr th:only-of-type {\n",
              "        vertical-align: middle;\n",
              "    }\n",
              "\n",
              "    .dataframe tbody tr th {\n",
              "        vertical-align: top;\n",
              "    }\n",
              "\n",
              "    .dataframe thead th {\n",
              "        text-align: right;\n",
              "    }\n",
              "</style>\n",
              "<table border=\"1\" class=\"dataframe\">\n",
              "  <thead>\n",
              "    <tr style=\"text-align: right;\">\n",
              "      <th></th>\n",
              "      <th>Photo Label</th>\n",
              "      <th>Luminance</th>\n",
              "      <th>R Mean</th>\n",
              "      <th>G Mean</th>\n",
              "      <th>B Mean</th>\n",
              "      <th>R Variance</th>\n",
              "      <th>G Variance</th>\n",
              "      <th>B Variance</th>\n",
              "      <th>Gray Variance</th>\n",
              "      <th>Blur</th>\n",
              "      <th>Sharpness</th>\n",
              "      <th>Resolution</th>\n",
              "      <th>Saturation</th>\n",
              "      <th>Colorfulness</th>\n",
              "    </tr>\n",
              "  </thead>\n",
              "  <tbody>\n",
              "    <tr>\n",
              "      <th>0</th>\n",
              "      <td>1</td>\n",
              "      <td>153.272495</td>\n",
              "      <td>113.110771</td>\n",
              "      <td>151.538866</td>\n",
              "      <td>201.937483</td>\n",
              "      <td>1591.746068</td>\n",
              "      <td>1878.529799</td>\n",
              "      <td>1253.553320</td>\n",
              "      <td>15064.968154</td>\n",
              "      <td>72.384518</td>\n",
              "      <td>0.460513</td>\n",
              "      <td>128030</td>\n",
              "      <td>156.259306</td>\n",
              "      <td>69.703962</td>\n",
              "    </tr>\n",
              "    <tr>\n",
              "      <th>1</th>\n",
              "      <td>1</td>\n",
              "      <td>131.341993</td>\n",
              "      <td>109.416020</td>\n",
              "      <td>128.867360</td>\n",
              "      <td>139.108675</td>\n",
              "      <td>1368.381722</td>\n",
              "      <td>1630.719701</td>\n",
              "      <td>1720.435224</td>\n",
              "      <td>11643.163752</td>\n",
              "      <td>957.856866</td>\n",
              "      <td>7.699148</td>\n",
              "      <td>242724</td>\n",
              "      <td>124.501504</td>\n",
              "      <td>19.799284</td>\n",
              "    </tr>\n",
              "    <tr>\n",
              "      <th>2</th>\n",
              "      <td>0</td>\n",
              "      <td>119.183109</td>\n",
              "      <td>110.412764</td>\n",
              "      <td>106.682788</td>\n",
              "      <td>104.270633</td>\n",
              "      <td>2666.747855</td>\n",
              "      <td>2665.400210</td>\n",
              "      <td>2610.129923</td>\n",
              "      <td>13242.390610</td>\n",
              "      <td>317.974513</td>\n",
              "      <td>2.965231</td>\n",
              "      <td>124800</td>\n",
              "      <td>107.572260</td>\n",
              "      <td>3.764623</td>\n",
              "    </tr>\n",
              "    <tr>\n",
              "      <th>3</th>\n",
              "      <td>1</td>\n",
              "      <td>199.621119</td>\n",
              "      <td>176.679191</td>\n",
              "      <td>199.546877</td>\n",
              "      <td>219.567619</td>\n",
              "      <td>1572.987437</td>\n",
              "      <td>1527.282689</td>\n",
              "      <td>1412.218088</td>\n",
              "      <td>11629.398058</td>\n",
              "      <td>3698.608515</td>\n",
              "      <td>18.634622</td>\n",
              "      <td>25311</td>\n",
              "      <td>197.095532</td>\n",
              "      <td>33.657900</td>\n",
              "    </tr>\n",
              "    <tr>\n",
              "      <th>4</th>\n",
              "      <td>0</td>\n",
              "      <td>148.839143</td>\n",
              "      <td>144.932863</td>\n",
              "      <td>141.368524</td>\n",
              "      <td>141.399736</td>\n",
              "      <td>1908.715625</td>\n",
              "      <td>1923.009674</td>\n",
              "      <td>1931.605410</td>\n",
              "      <td>12298.442205</td>\n",
              "      <td>1057.951630</td>\n",
              "      <td>7.405984</td>\n",
              "      <td>45400</td>\n",
              "      <td>142.988921</td>\n",
              "      <td>3.916884</td>\n",
              "    </tr>\n",
              "  </tbody>\n",
              "</table>\n",
              "</div>\n",
              "      <button class=\"colab-df-convert\" onclick=\"convertToInteractive('df-e99010a0-7eb7-4c41-94e9-c588611e4582')\"\n",
              "              title=\"Convert this dataframe to an interactive table.\"\n",
              "              style=\"display:none;\">\n",
              "        \n",
              "  <svg xmlns=\"http://www.w3.org/2000/svg\" height=\"24px\"viewBox=\"0 0 24 24\"\n",
              "       width=\"24px\">\n",
              "    <path d=\"M0 0h24v24H0V0z\" fill=\"none\"/>\n",
              "    <path d=\"M18.56 5.44l.94 2.06.94-2.06 2.06-.94-2.06-.94-.94-2.06-.94 2.06-2.06.94zm-11 1L8.5 8.5l.94-2.06 2.06-.94-2.06-.94L8.5 2.5l-.94 2.06-2.06.94zm10 10l.94 2.06.94-2.06 2.06-.94-2.06-.94-.94-2.06-.94 2.06-2.06.94z\"/><path d=\"M17.41 7.96l-1.37-1.37c-.4-.4-.92-.59-1.43-.59-.52 0-1.04.2-1.43.59L10.3 9.45l-7.72 7.72c-.78.78-.78 2.05 0 2.83L4 21.41c.39.39.9.59 1.41.59.51 0 1.02-.2 1.41-.59l7.78-7.78 2.81-2.81c.8-.78.8-2.07 0-2.86zM5.41 20L4 18.59l7.72-7.72 1.47 1.35L5.41 20z\"/>\n",
              "  </svg>\n",
              "      </button>\n",
              "      \n",
              "  <style>\n",
              "    .colab-df-container {\n",
              "      display:flex;\n",
              "      flex-wrap:wrap;\n",
              "      gap: 12px;\n",
              "    }\n",
              "\n",
              "    .colab-df-convert {\n",
              "      background-color: #E8F0FE;\n",
              "      border: none;\n",
              "      border-radius: 50%;\n",
              "      cursor: pointer;\n",
              "      display: none;\n",
              "      fill: #1967D2;\n",
              "      height: 32px;\n",
              "      padding: 0 0 0 0;\n",
              "      width: 32px;\n",
              "    }\n",
              "\n",
              "    .colab-df-convert:hover {\n",
              "      background-color: #E2EBFA;\n",
              "      box-shadow: 0px 1px 2px rgba(60, 64, 67, 0.3), 0px 1px 3px 1px rgba(60, 64, 67, 0.15);\n",
              "      fill: #174EA6;\n",
              "    }\n",
              "\n",
              "    [theme=dark] .colab-df-convert {\n",
              "      background-color: #3B4455;\n",
              "      fill: #D2E3FC;\n",
              "    }\n",
              "\n",
              "    [theme=dark] .colab-df-convert:hover {\n",
              "      background-color: #434B5C;\n",
              "      box-shadow: 0px 1px 3px 1px rgba(0, 0, 0, 0.15);\n",
              "      filter: drop-shadow(0px 1px 2px rgba(0, 0, 0, 0.3));\n",
              "      fill: #FFFFFF;\n",
              "    }\n",
              "  </style>\n",
              "\n",
              "      <script>\n",
              "        const buttonEl =\n",
              "          document.querySelector('#df-e99010a0-7eb7-4c41-94e9-c588611e4582 button.colab-df-convert');\n",
              "        buttonEl.style.display =\n",
              "          google.colab.kernel.accessAllowed ? 'block' : 'none';\n",
              "\n",
              "        async function convertToInteractive(key) {\n",
              "          const element = document.querySelector('#df-e99010a0-7eb7-4c41-94e9-c588611e4582');\n",
              "          const dataTable =\n",
              "            await google.colab.kernel.invokeFunction('convertToInteractive',\n",
              "                                                     [key], {});\n",
              "          if (!dataTable) return;\n",
              "\n",
              "          const docLinkHtml = 'Like what you see? Visit the ' +\n",
              "            '<a target=\"_blank\" href=https://colab.research.google.com/notebooks/data_table.ipynb>data table notebook</a>'\n",
              "            + ' to learn more about interactive tables.';\n",
              "          element.innerHTML = '';\n",
              "          dataTable['output_type'] = 'display_data';\n",
              "          await google.colab.output.renderOutput(dataTable, element);\n",
              "          const docLink = document.createElement('div');\n",
              "          docLink.innerHTML = docLinkHtml;\n",
              "          element.appendChild(docLink);\n",
              "        }\n",
              "      </script>\n",
              "    </div>\n",
              "  </div>\n",
              "  "
            ]
          },
          "metadata": {},
          "execution_count": 34
        }
      ],
      "source": [
        "# Randomize the sequence of data\n",
        "main_df = shuffle(main_df).reset_index(drop = True)\n",
        "main_df.head()"
      ]
    },
    {
      "cell_type": "markdown",
      "metadata": {
        "id": "a_jpwmhZ2sgj"
      },
      "source": [
        "Normalize the Dataset and Split Data "
      ]
    },
    {
      "cell_type": "code",
      "execution_count": null,
      "metadata": {
        "id": "LNNJvyoC2uaS"
      },
      "outputs": [],
      "source": [
        "# Define X and Y variables\n",
        "X = main_df.drop(columns= ['Photo Label']).values # use all 13 variables\n",
        "Y = main_df[['Photo Label']].values # 1 output: Classifying if it is real or fake. 0 = fotocopy, 1 = real "
      ]
    },
    {
      "cell_type": "code",
      "source": [
        "from sklearn.preprocessing import Normalizer"
      ],
      "metadata": {
        "id": "LnuYqSMHqZ2x"
      },
      "execution_count": null,
      "outputs": []
    },
    {
      "cell_type": "code",
      "execution_count": null,
      "metadata": {
        "id": "U33y7iYc20Ni"
      },
      "outputs": [],
      "source": [
        "# Normalize data using TF\n",
        "normalizer = Normalizer()\n",
        "X = normalizer.transform(X)"
      ]
    },
    {
      "cell_type": "code",
      "execution_count": null,
      "metadata": {
        "id": "gd-LHpAD21yq"
      },
      "outputs": [],
      "source": [
        "# Split data\n",
        "X_train, X_test, Y_train, Y_test = train_test_split(X, Y, test_size = 0.5, random_state = 50)"
      ]
    },
    {
      "cell_type": "markdown",
      "metadata": {
        "id": "G3ixlnLltmks"
      },
      "source": [
        "Building Model"
      ]
    },
    {
      "cell_type": "code",
      "execution_count": null,
      "metadata": {
        "id": "W5Bu51sElvBe"
      },
      "outputs": [],
      "source": [
        "def build_and_compile_model(norm):\n",
        "  ANN_model = tf.keras.Sequential([\n",
        "      layers.Dense(13, input_dim = 13, activation ='relu'),\n",
        "      layers.Dropout(0.1),\n",
        "      layers.Dense(1, activation = 'sigmoid')\n",
        "  ])\n",
        "\n",
        "  ANN_model.compile(loss = 'binary_crossentropy',\n",
        "                    optimizer = tf.keras.optimizers.Adam(0.001),\n",
        "                    metrics = ['accuracy'])\n",
        "  \n",
        "  return ANN_model"
      ]
    },
    {
      "cell_type": "markdown",
      "metadata": {
        "id": "6h9gMUuausht"
      },
      "source": [
        "Fitting model and seeing loss "
      ]
    },
    {
      "cell_type": "code",
      "execution_count": null,
      "metadata": {
        "colab": {
          "base_uri": "https://localhost:8080/"
        },
        "id": "WGa8rdg6uwzD",
        "outputId": "c0a31f2f-3406-4632-f44e-c7ff2fc04a10"
      },
      "outputs": [
        {
          "output_type": "stream",
          "name": "stdout",
          "text": [
            "Model: \"sequential\"\n",
            "_________________________________________________________________\n",
            " Layer (type)                Output Shape              Param #   \n",
            "=================================================================\n",
            " dense (Dense)               (None, 13)                182       \n",
            "                                                                 \n",
            " dropout (Dropout)           (None, 13)                0         \n",
            "                                                                 \n",
            " dense_1 (Dense)             (None, 1)                 14        \n",
            "                                                                 \n",
            "=================================================================\n",
            "Total params: 196\n",
            "Trainable params: 196\n",
            "Non-trainable params: 0\n",
            "_________________________________________________________________\n"
          ]
        }
      ],
      "source": [
        "ANN_model = build_and_compile_model(normalizer)\n",
        "ANN_model.summary()"
      ]
    },
    {
      "cell_type": "code",
      "execution_count": null,
      "metadata": {
        "id": "qzM8BsJ0u59V"
      },
      "outputs": [],
      "source": [
        "history = ANN_model.fit(\n",
        "    X_train,\n",
        "    Y_train,\n",
        "    validation_split = 0.2,\n",
        "    verbose = 0, epochs = 100)"
      ]
    },
    {
      "cell_type": "code",
      "execution_count": null,
      "metadata": {
        "id": "0sNxccVjvxZ9"
      },
      "outputs": [],
      "source": [
        "# Plotting the model \n",
        "hist = pd.DataFrame(history.history)\n",
        "hist['epoch'] = history.epoch"
      ]
    },
    {
      "cell_type": "code",
      "execution_count": null,
      "metadata": {
        "id": "YVGzIEORzWWE"
      },
      "outputs": [],
      "source": [
        "def plot_loss(history):\n",
        "  plt.plot(history.history['loss'], label='loss')\n",
        "  plt.plot(history.history['val_loss'], label='val_loss')\n",
        "  plt.ylim([0, 10])\n",
        "  plt.xlabel('Epoch')\n",
        "  plt.ylabel('Error [Photo Label]')\n",
        "  plt.legend()\n",
        "  plt.grid(True)"
      ]
    },
    {
      "cell_type": "code",
      "execution_count": null,
      "metadata": {
        "id": "iY-ndjxbzXXU",
        "colab": {
          "base_uri": "https://localhost:8080/",
          "height": 283
        },
        "outputId": "d70e10bb-65a9-445c-ee91-3078cba635b9"
      },
      "outputs": [
        {
          "output_type": "display_data",
          "data": {
            "text/plain": [
              "<Figure size 432x288 with 1 Axes>"
            ],
            "image/png": "[encoded data removed]"
          },
          "metadata": {
            "needs_background": "light"
          }
        }
      ],
      "source": [
        "plot_loss(history)"
      ]
    },
    {
      "cell_type": "markdown",
      "metadata": {
        "id": "TmVBEX26vKJO"
      },
      "source": [
        "# Predicting"
      ]
    },
    {
      "cell_type": "markdown",
      "source": [
        "Predicting using Neural Network "
      ],
      "metadata": {
        "id": "orXC8N8lkAZb"
      }
    },
    {
      "cell_type": "code",
      "execution_count": null,
      "metadata": {
        "id": "rTvDtY9zu4VE",
        "colab": {
          "base_uri": "https://localhost:8080/"
        },
        "outputId": "d55b87cc-3c27-4971-bd52-69435de0027c"
      },
      "outputs": [
        {
          "output_type": "stream",
          "name": "stdout",
          "text": [
            "[[1]\n",
            " [1]\n",
            " [1]\n",
            " [0]\n",
            " [1]\n",
            " [1]\n",
            " [1]\n",
            " [1]\n",
            " [0]\n",
            " [1]\n",
            " [0]\n",
            " [1]\n",
            " [0]\n",
            " [1]\n",
            " [0]\n",
            " [0]\n",
            " [1]\n",
            " [1]\n",
            " [0]\n",
            " [0]\n",
            " [0]\n",
            " [1]\n",
            " [1]\n",
            " [1]\n",
            " [1]\n",
            " [1]\n",
            " [0]\n",
            " [0]\n",
            " [0]\n",
            " [1]\n",
            " [1]\n",
            " [1]\n",
            " [1]\n",
            " [1]\n",
            " [0]\n",
            " [0]\n",
            " [1]\n",
            " [1]\n",
            " [0]\n",
            " [1]\n",
            " [1]\n",
            " [1]\n",
            " [1]\n",
            " [1]\n",
            " [0]\n",
            " [0]\n",
            " [1]\n",
            " [1]\n",
            " [1]\n",
            " [1]\n",
            " [1]\n",
            " [0]\n",
            " [1]\n",
            " [0]\n",
            " [1]\n",
            " [1]\n",
            " [1]\n",
            " [0]\n",
            " [1]\n",
            " [1]\n",
            " [1]\n",
            " [1]\n",
            " [1]\n",
            " [1]\n",
            " [1]\n",
            " [1]\n",
            " [1]\n",
            " [0]\n",
            " [1]\n",
            " [1]\n",
            " [1]\n",
            " [1]\n",
            " [1]\n",
            " [1]\n",
            " [0]\n",
            " [1]\n",
            " [1]\n",
            " [1]\n",
            " [1]\n",
            " [1]\n",
            " [1]\n",
            " [1]\n",
            " [1]\n",
            " [1]\n",
            " [1]\n",
            " [0]\n",
            " [1]\n",
            " [0]\n",
            " [1]\n",
            " [1]\n",
            " [1]\n",
            " [1]\n",
            " [1]\n",
            " [1]\n",
            " [0]\n",
            " [0]\n",
            " [1]\n",
            " [1]\n",
            " [1]\n",
            " [1]\n",
            " [1]\n",
            " [0]\n",
            " [1]\n",
            " [0]\n",
            " [1]\n",
            " [1]\n",
            " [1]\n",
            " [1]\n",
            " [1]\n",
            " [0]\n",
            " [1]\n",
            " [1]\n",
            " [0]\n",
            " [1]\n",
            " [0]\n",
            " [1]\n",
            " [0]\n",
            " [1]\n",
            " [1]\n",
            " [1]\n",
            " [0]\n",
            " [0]\n",
            " [1]\n",
            " [1]\n",
            " [0]\n",
            " [0]\n",
            " [1]\n",
            " [1]\n",
            " [1]\n",
            " [1]\n",
            " [1]\n",
            " [1]\n",
            " [1]\n",
            " [0]\n",
            " [1]\n",
            " [0]\n",
            " [1]\n",
            " [1]\n",
            " [1]\n",
            " [1]\n",
            " [1]\n",
            " [1]\n",
            " [1]\n",
            " [1]\n",
            " [1]\n",
            " [1]\n",
            " [1]\n",
            " [0]\n",
            " [1]\n",
            " [1]\n",
            " [0]\n",
            " [1]\n",
            " [1]\n",
            " [0]\n",
            " [0]\n",
            " [1]\n",
            " [1]\n",
            " [1]\n",
            " [1]\n",
            " [1]\n",
            " [1]\n",
            " [0]\n",
            " [0]\n",
            " [0]\n",
            " [1]\n",
            " [1]\n",
            " [1]\n",
            " [1]\n",
            " [1]\n",
            " [1]\n",
            " [0]\n",
            " [0]\n",
            " [1]\n",
            " [1]\n",
            " [0]\n",
            " [1]\n",
            " [1]\n",
            " [1]\n",
            " [1]\n",
            " [1]\n",
            " [1]\n",
            " [1]\n",
            " [0]\n",
            " [1]\n",
            " [0]\n",
            " [1]\n",
            " [1]\n",
            " [1]\n",
            " [1]\n",
            " [1]\n",
            " [0]\n",
            " [1]\n",
            " [1]\n",
            " [1]\n",
            " [1]\n",
            " [0]\n",
            " [1]\n",
            " [1]\n",
            " [1]\n",
            " [0]\n",
            " [1]\n",
            " [1]\n",
            " [0]\n",
            " [1]\n",
            " [0]\n",
            " [0]\n",
            " [1]\n",
            " [0]\n",
            " [0]\n",
            " [1]\n",
            " [1]\n",
            " [1]\n",
            " [1]\n",
            " [1]\n",
            " [1]\n",
            " [1]\n",
            " [0]\n",
            " [1]\n",
            " [1]\n",
            " [0]\n",
            " [0]\n",
            " [1]\n",
            " [0]\n",
            " [0]\n",
            " [1]\n",
            " [1]\n",
            " [0]\n",
            " [1]\n",
            " [0]\n",
            " [0]\n",
            " [0]\n",
            " [0]\n",
            " [0]\n",
            " [1]\n",
            " [1]\n",
            " [0]\n",
            " [1]\n",
            " [0]\n",
            " [1]\n",
            " [1]\n",
            " [0]\n",
            " [1]\n",
            " [1]\n",
            " [0]\n",
            " [1]\n",
            " [1]\n",
            " [1]\n",
            " [1]\n",
            " [0]\n",
            " [1]\n",
            " [1]\n",
            " [0]\n",
            " [1]\n",
            " [1]\n",
            " [1]\n",
            " [1]\n",
            " [1]\n",
            " [0]\n",
            " [1]\n",
            " [1]\n",
            " [1]\n",
            " [0]\n",
            " [1]\n",
            " [0]\n",
            " [1]\n",
            " [1]\n",
            " [1]\n",
            " [1]\n",
            " [1]\n",
            " [0]\n",
            " [0]\n",
            " [1]\n",
            " [1]\n",
            " [1]\n",
            " [1]\n",
            " [0]\n",
            " [1]\n",
            " [0]\n",
            " [1]\n",
            " [1]\n",
            " [0]\n",
            " [0]\n",
            " [1]\n",
            " [0]\n",
            " [1]\n",
            " [1]\n",
            " [1]\n",
            " [1]\n",
            " [1]\n",
            " [0]\n",
            " [1]\n",
            " [0]\n",
            " [1]\n",
            " [0]\n",
            " [1]\n",
            " [0]\n",
            " [1]\n",
            " [1]\n",
            " [1]\n",
            " [0]\n",
            " [0]\n",
            " [1]\n",
            " [0]\n",
            " [0]\n",
            " [1]\n",
            " [1]\n",
            " [1]\n",
            " [1]\n",
            " [1]\n",
            " [0]\n",
            " [1]\n",
            " [0]\n",
            " [0]\n",
            " [1]\n",
            " [0]\n",
            " [1]\n",
            " [1]\n",
            " [1]\n",
            " [1]\n",
            " [1]\n",
            " [1]\n",
            " [1]\n",
            " [1]\n",
            " [1]\n",
            " [1]\n",
            " [1]\n",
            " [0]\n",
            " [0]\n",
            " [0]\n",
            " [1]\n",
            " [1]\n",
            " [1]\n",
            " [1]\n",
            " [1]\n",
            " [0]\n",
            " [1]\n",
            " [1]\n",
            " [1]\n",
            " [0]\n",
            " [1]\n",
            " [1]\n",
            " [1]\n",
            " [1]\n",
            " [1]\n",
            " [0]\n",
            " [0]\n",
            " [1]\n",
            " [0]\n",
            " [1]\n",
            " [0]\n",
            " [0]\n",
            " [1]\n",
            " [1]\n",
            " [1]\n",
            " [1]\n",
            " [1]\n",
            " [1]\n",
            " [1]\n",
            " [0]\n",
            " [1]\n",
            " [1]\n",
            " [1]\n",
            " [1]\n",
            " [0]\n",
            " [1]\n",
            " [1]\n",
            " [1]\n",
            " [1]\n",
            " [1]\n",
            " [0]\n",
            " [1]\n",
            " [1]\n",
            " [1]\n",
            " [0]\n",
            " [1]\n",
            " [1]\n",
            " [0]\n",
            " [1]\n",
            " [1]\n",
            " [1]\n",
            " [0]\n",
            " [0]\n",
            " [1]\n",
            " [1]\n",
            " [0]\n",
            " [0]\n",
            " [1]\n",
            " [1]\n",
            " [1]\n",
            " [1]\n",
            " [1]\n",
            " [1]\n",
            " [1]\n",
            " [1]\n",
            " [0]\n",
            " [1]\n",
            " [0]\n",
            " [1]\n",
            " [1]\n",
            " [1]\n",
            " [0]\n",
            " [0]\n",
            " [0]\n",
            " [0]\n",
            " [1]\n",
            " [1]\n",
            " [1]\n",
            " [0]\n",
            " [1]\n",
            " [0]\n",
            " [1]\n",
            " [1]\n",
            " [1]\n",
            " [0]\n",
            " [1]\n",
            " [0]\n",
            " [0]\n",
            " [0]\n",
            " [1]\n",
            " [1]\n",
            " [1]\n",
            " [0]\n",
            " [1]\n",
            " [1]\n",
            " [1]\n",
            " [1]\n",
            " [1]\n",
            " [1]\n",
            " [1]\n",
            " [1]\n",
            " [0]\n",
            " [1]\n",
            " [1]\n",
            " [1]\n",
            " [1]\n",
            " [1]\n",
            " [1]\n",
            " [1]\n",
            " [1]\n",
            " [1]\n",
            " [1]\n",
            " [1]\n",
            " [0]\n",
            " [1]\n",
            " [1]\n",
            " [0]\n",
            " [0]\n",
            " [1]\n",
            " [1]\n",
            " [1]\n",
            " [1]\n",
            " [1]\n",
            " [0]\n",
            " [1]\n",
            " [1]\n",
            " [0]\n",
            " [1]\n",
            " [1]\n",
            " [0]\n",
            " [0]\n",
            " [0]\n",
            " [1]\n",
            " [1]\n",
            " [1]\n",
            " [1]\n",
            " [0]\n",
            " [1]\n",
            " [1]\n",
            " [0]\n",
            " [1]\n",
            " [0]\n",
            " [1]\n",
            " [1]\n",
            " [1]\n",
            " [0]\n",
            " [0]\n",
            " [0]\n",
            " [0]\n",
            " [0]\n",
            " [1]\n",
            " [1]\n",
            " [1]\n",
            " [1]\n",
            " [0]\n",
            " [1]\n",
            " [1]\n",
            " [1]\n",
            " [0]\n",
            " [0]\n",
            " [1]\n",
            " [1]\n",
            " [0]\n",
            " [1]\n",
            " [0]\n",
            " [1]\n",
            " [1]\n",
            " [0]\n",
            " [0]\n",
            " [1]\n",
            " [1]\n",
            " [1]\n",
            " [0]\n",
            " [0]\n",
            " [1]\n",
            " [1]\n",
            " [1]\n",
            " [1]\n",
            " [0]]\n"
          ]
        }
      ],
      "source": [
        "Y_pred = ANN_model.predict(X_test)\n",
        "Y_class = np.round(Y_pred).astype(int)\n",
        "print(Y_class)"
      ]
    },
    {
      "cell_type": "code",
      "source": [
        "# Finding accuracy using classification report \n",
        "print(classification_report(Y_class, Y_test))"
      ],
      "metadata": {
        "colab": {
          "base_uri": "https://localhost:8080/"
        },
        "id": "Nx-2smpMl0sf",
        "outputId": "e695a8a2-ac9f-4bfd-adc1-0cf4c05b598f"
      },
      "execution_count": null,
      "outputs": [
        {
          "output_type": "stream",
          "name": "stdout",
          "text": [
            "              precision    recall  f1-score   support\n",
            "\n",
            "           0       0.33      0.44      0.38       156\n",
            "           1       0.71      0.61      0.66       352\n",
            "\n",
            "    accuracy                           0.56       508\n",
            "   macro avg       0.52      0.52      0.52       508\n",
            "weighted avg       0.59      0.56      0.57       508\n",
            "\n"
          ]
        }
      ]
    },
    {
      "cell_type": "markdown",
      "source": [
        "# Hyperparameter Tuning "
      ],
      "metadata": {
        "id": "t_H2xsiWw58W"
      }
    },
    {
      "cell_type": "markdown",
      "source": [
        "Create new formula for model tuning "
      ],
      "metadata": {
        "id": "obfKqNOnz1do"
      }
    },
    {
      "cell_type": "code",
      "source": [
        "def model_tuner(hp):\n",
        "  model = keras.Sequential()\n",
        "  model.add(keras.layers.Dense(13, input_dim = 13, activation = 'relu'))\n",
        "\n",
        "  # Tune the number of layers and the units, with activation \n",
        "  # Choose an optimal value between 32-512\n",
        "  for i in range(hp.Int('layers', 2, 3)):\n",
        "    model.add(tf.keras.layers.Dense(units = hp.Int('units_' + str(i), 32, 512, step = 32),\n",
        "                                    activation=hp.Choice('act_' + str(i), ['relu', 'sigmoid'])))\n",
        "  \n",
        "  # Output layer \n",
        "  model.add(keras.layers.Dense(1, activation = 'sigmoid'))\n",
        "\n",
        "  # Tune the learning rate for the optimizer\n",
        "  # Choose an optimal value from 0.01, 0.001, or 0.0001\n",
        "  hp_learning_rate = hp.Choice('learning_rate', values = [1e-2, 1e-3, 1e-4])\n",
        "\n",
        "  model.compile(optimizer = tf.keras.optimizers.Adam(learning_rate = hp_learning_rate), \n",
        "                loss = 'binary_crossentropy',\n",
        "                metrics=['accuracy'])\n",
        "\n",
        "  return model"
      ],
      "metadata": {
        "id": "tTRqYPlGw-u3"
      },
      "execution_count": null,
      "outputs": []
    },
    {
      "cell_type": "markdown",
      "source": [
        "Tuning the hypermodel"
      ],
      "metadata": {
        "id": "bdq9Gx-f1OjV"
      }
    },
    {
      "cell_type": "code",
      "source": [
        "!pip install -q -U keras-tuner\n",
        "import keras_tuner as kt"
      ],
      "metadata": {
        "colab": {
          "base_uri": "https://localhost:8080/"
        },
        "id": "VfdycKBJ1QMF",
        "outputId": "0d16e47a-d43f-4da5-fdb6-a4a64346dd6e"
      },
      "execution_count": null,
      "outputs": [
        {
          "output_type": "stream",
          "name": "stdout",
          "text": [
            "\u001b[K     |████████████████████████████████| 135 kB 5.2 MB/s \n",
            "\u001b[K     |████████████████████████████████| 1.6 MB 44.6 MB/s \n",
            "\u001b[?25h"
          ]
        }
      ]
    },
    {
      "cell_type": "code",
      "source": [
        "# Create tuner \n",
        "tuner = kt.Hyperband(model_tuner,\n",
        "                     objective = 'val_accuracy',\n",
        "                     max_epochs = 10,\n",
        "                     factor = 5,\n",
        "                     overwrite = True)\n",
        "\n",
        "tuner.search_space_summary()"
      ],
      "metadata": {
        "colab": {
          "base_uri": "https://localhost:8080/"
        },
        "id": "iNoV_BZw1Qu7",
        "outputId": "4966dd1b-0ca9-4d89-8643-cf08de52f9e3"
      },
      "execution_count": null,
      "outputs": [
        {
          "output_type": "stream",
          "name": "stdout",
          "text": [
            "Search space summary\n",
            "Default search space size: 6\n",
            "layers (Int)\n",
            "{'default': None, 'conditions': [], 'min_value': 2, 'max_value': 3, 'step': 1, 'sampling': None}\n",
            "units_0 (Int)\n",
            "{'default': None, 'conditions': [], 'min_value': 32, 'max_value': 512, 'step': 32, 'sampling': None}\n",
            "act_0 (Choice)\n",
            "{'default': 'relu', 'conditions': [], 'values': ['relu', 'sigmoid'], 'ordered': False}\n",
            "units_1 (Int)\n",
            "{'default': None, 'conditions': [], 'min_value': 32, 'max_value': 512, 'step': 32, 'sampling': None}\n",
            "act_1 (Choice)\n",
            "{'default': 'relu', 'conditions': [], 'values': ['relu', 'sigmoid'], 'ordered': False}\n",
            "learning_rate (Choice)\n",
            "{'default': 0.01, 'conditions': [], 'values': [0.01, 0.001, 0.0001], 'ordered': True}\n"
          ]
        }
      ]
    },
    {
      "cell_type": "code",
      "source": [
        "# Early stopping\n",
        "stop_early = tf.keras.callbacks.EarlyStopping(monitor = 'val_loss', patience = 10)"
      ],
      "metadata": {
        "id": "b7HRLEiK1yd2"
      },
      "execution_count": null,
      "outputs": []
    },
    {
      "cell_type": "code",
      "source": [
        "# Executing hyperparameter tuning\n",
        "tuner.search(X_train, Y_train, epochs = 50, validation_split = 0.2, callbacks=[stop_early])\n",
        "\n",
        "# Get the optimal hyperparameters\n",
        "best_hps = tuner.get_best_hyperparameters(num_trials = 5)[0]"
      ],
      "metadata": {
        "colab": {
          "base_uri": "https://localhost:8080/"
        },
        "id": "e8Ucu3lb1z-0",
        "outputId": "50049420-dcb0-48d7-a48e-9468ddae5d12"
      },
      "execution_count": null,
      "outputs": [
        {
          "output_type": "stream",
          "name": "stdout",
          "text": [
            "Trial 13 Complete [00h 00m 03s]\n",
            "val_accuracy: 0.5686274766921997\n",
            "\n",
            "Best val_accuracy So Far: 0.7647058963775635\n",
            "Total elapsed time: 00h 00m 39s\n"
          ]
        }
      ]
    },
    {
      "cell_type": "code",
      "source": [
        "tuner.results_summary()"
      ],
      "metadata": {
        "colab": {
          "base_uri": "https://localhost:8080/"
        },
        "id": "xGnG7Iwf6x79",
        "outputId": "d48e8a02-5f38-4295-d478-96d4195db4b0"
      },
      "execution_count": null,
      "outputs": [
        {
          "output_type": "stream",
          "name": "stdout",
          "text": [
            "Results summary\n",
            "Results in ./untitled_project\n",
            "Showing 10 best trials\n",
            "<keras_tuner.engine.objective.Objective object at 0x7efc915d4250>\n",
            "Trial summary\n",
            "Hyperparameters:\n",
            "layers: 3\n",
            "units_0: 320\n",
            "act_0: relu\n",
            "units_1: 128\n",
            "act_1: sigmoid\n",
            "learning_rate: 0.01\n",
            "units_2: 96\n",
            "act_2: relu\n",
            "tuner/epochs: 2\n",
            "tuner/initial_epoch: 0\n",
            "tuner/bracket: 1\n",
            "tuner/round: 0\n",
            "Score: 0.7647058963775635\n",
            "Trial summary\n",
            "Hyperparameters:\n",
            "layers: 3\n",
            "units_0: 320\n",
            "act_0: relu\n",
            "units_1: 128\n",
            "act_1: sigmoid\n",
            "learning_rate: 0.01\n",
            "units_2: 96\n",
            "act_2: relu\n",
            "tuner/epochs: 10\n",
            "tuner/initial_epoch: 2\n",
            "tuner/bracket: 1\n",
            "tuner/round: 1\n",
            "tuner/trial_id: 0001\n",
            "Score: 0.7647058963775635\n",
            "Trial summary\n",
            "Hyperparameters:\n",
            "layers: 3\n",
            "units_0: 64\n",
            "act_0: relu\n",
            "units_1: 352\n",
            "act_1: relu\n",
            "learning_rate: 0.001\n",
            "tuner/epochs: 10\n",
            "tuner/initial_epoch: 2\n",
            "tuner/bracket: 1\n",
            "tuner/round: 1\n",
            "units_2: 32\n",
            "act_2: relu\n",
            "tuner/trial_id: 0000\n",
            "Score: 0.6274510025978088\n",
            "Trial summary\n",
            "Hyperparameters:\n",
            "layers: 3\n",
            "units_0: 64\n",
            "act_0: relu\n",
            "units_1: 352\n",
            "act_1: relu\n",
            "learning_rate: 0.001\n",
            "tuner/epochs: 2\n",
            "tuner/initial_epoch: 0\n",
            "tuner/bracket: 1\n",
            "tuner/round: 0\n",
            "units_2: 32\n",
            "act_2: relu\n",
            "Score: 0.5686274766921997\n",
            "Trial summary\n",
            "Hyperparameters:\n",
            "layers: 2\n",
            "units_0: 64\n",
            "act_0: relu\n",
            "units_1: 384\n",
            "act_1: sigmoid\n",
            "learning_rate: 0.001\n",
            "units_2: 32\n",
            "act_2: sigmoid\n",
            "tuner/epochs: 2\n",
            "tuner/initial_epoch: 0\n",
            "tuner/bracket: 1\n",
            "tuner/round: 0\n",
            "Score: 0.5686274766921997\n",
            "Trial summary\n",
            "Hyperparameters:\n",
            "layers: 2\n",
            "units_0: 224\n",
            "act_0: relu\n",
            "units_1: 64\n",
            "act_1: sigmoid\n",
            "learning_rate: 0.001\n",
            "units_2: 416\n",
            "act_2: relu\n",
            "tuner/epochs: 2\n",
            "tuner/initial_epoch: 0\n",
            "tuner/bracket: 1\n",
            "tuner/round: 0\n",
            "Score: 0.5686274766921997\n",
            "Trial summary\n",
            "Hyperparameters:\n",
            "layers: 3\n",
            "units_0: 448\n",
            "act_0: sigmoid\n",
            "units_1: 224\n",
            "act_1: sigmoid\n",
            "learning_rate: 0.01\n",
            "units_2: 352\n",
            "act_2: relu\n",
            "tuner/epochs: 2\n",
            "tuner/initial_epoch: 0\n",
            "tuner/bracket: 1\n",
            "tuner/round: 0\n",
            "Score: 0.5686274766921997\n",
            "Trial summary\n",
            "Hyperparameters:\n",
            "layers: 2\n",
            "units_0: 128\n",
            "act_0: relu\n",
            "units_1: 480\n",
            "act_1: sigmoid\n",
            "learning_rate: 0.0001\n",
            "units_2: 416\n",
            "act_2: relu\n",
            "tuner/epochs: 2\n",
            "tuner/initial_epoch: 0\n",
            "tuner/bracket: 1\n",
            "tuner/round: 0\n",
            "Score: 0.5686274766921997\n",
            "Trial summary\n",
            "Hyperparameters:\n",
            "layers: 2\n",
            "units_0: 352\n",
            "act_0: sigmoid\n",
            "units_1: 448\n",
            "act_1: relu\n",
            "learning_rate: 0.01\n",
            "units_2: 128\n",
            "act_2: relu\n",
            "tuner/epochs: 2\n",
            "tuner/initial_epoch: 0\n",
            "tuner/bracket: 1\n",
            "tuner/round: 0\n",
            "Score: 0.5686274766921997\n",
            "Trial summary\n",
            "Hyperparameters:\n",
            "layers: 3\n",
            "units_0: 256\n",
            "act_0: sigmoid\n",
            "units_1: 256\n",
            "act_1: sigmoid\n",
            "learning_rate: 0.0001\n",
            "units_2: 448\n",
            "act_2: sigmoid\n",
            "tuner/epochs: 2\n",
            "tuner/initial_epoch: 0\n",
            "tuner/bracket: 1\n",
            "tuner/round: 0\n",
            "Score: 0.5686274766921997\n"
          ]
        }
      ]
    },
    {
      "cell_type": "code",
      "source": [
        "ANN_model = tuner.hypermodel.build(best_hps)\n",
        "history2 = ANN_model.fit(X_train, Y_train, epochs=50, validation_split=0.2)\n",
        "\n",
        "val_acc_per_epoch = history.history['val_accuracy']\n",
        "best_epoch = val_acc_per_epoch.index(max(val_acc_per_epoch)) + 1\n",
        "print('Best epoch: %d' % (best_epoch,))"
      ],
      "metadata": {
        "colab": {
          "base_uri": "https://localhost:8080/"
        },
        "id": "YypdHUt_9WBU",
        "outputId": "03d6e21e-f744-47db-dfe4-4ffbbd4082f2"
      },
      "execution_count": null,
      "outputs": [
        {
          "output_type": "stream",
          "name": "stdout",
          "text": [
            "Epoch 1/50\n",
            "13/13 [==============================] - 1s 22ms/step - loss: 0.8065 - accuracy: 0.5246 - val_loss: 0.6751 - val_accuracy: 0.5686\n",
            "Epoch 2/50\n",
            "13/13 [==============================] - 0s 5ms/step - loss: 0.6172 - accuracy: 0.6281 - val_loss: 0.5559 - val_accuracy: 0.5686\n",
            "Epoch 3/50\n",
            "13/13 [==============================] - 0s 6ms/step - loss: 0.4929 - accuracy: 0.6749 - val_loss: 0.4488 - val_accuracy: 0.7647\n",
            "Epoch 4/50\n",
            "13/13 [==============================] - 0s 7ms/step - loss: 0.4750 - accuracy: 0.6823 - val_loss: 0.4438 - val_accuracy: 0.7647\n",
            "Epoch 5/50\n",
            "13/13 [==============================] - 0s 5ms/step - loss: 0.4769 - accuracy: 0.6847 - val_loss: 0.4494 - val_accuracy: 0.7647\n",
            "Epoch 6/50\n",
            "13/13 [==============================] - 0s 5ms/step - loss: 0.4739 - accuracy: 0.6872 - val_loss: 0.4474 - val_accuracy: 0.7647\n",
            "Epoch 7/50\n",
            "13/13 [==============================] - 0s 7ms/step - loss: 0.4735 - accuracy: 0.6872 - val_loss: 0.4529 - val_accuracy: 0.7647\n",
            "Epoch 8/50\n",
            "13/13 [==============================] - 0s 5ms/step - loss: 0.4747 - accuracy: 0.6847 - val_loss: 0.4428 - val_accuracy: 0.7647\n",
            "Epoch 9/50\n",
            "13/13 [==============================] - 0s 6ms/step - loss: 0.4717 - accuracy: 0.6872 - val_loss: 0.4452 - val_accuracy: 0.7647\n",
            "Epoch 10/50\n",
            "13/13 [==============================] - 0s 7ms/step - loss: 0.4711 - accuracy: 0.6872 - val_loss: 0.4447 - val_accuracy: 0.7647\n",
            "Epoch 11/50\n",
            "13/13 [==============================] - 0s 7ms/step - loss: 0.4701 - accuracy: 0.6872 - val_loss: 0.4395 - val_accuracy: 0.7647\n",
            "Epoch 12/50\n",
            "13/13 [==============================] - 0s 6ms/step - loss: 0.4675 - accuracy: 0.6921 - val_loss: 0.4325 - val_accuracy: 0.7647\n",
            "Epoch 13/50\n",
            "13/13 [==============================] - 0s 6ms/step - loss: 0.4573 - accuracy: 0.6995 - val_loss: 0.4019 - val_accuracy: 0.7647\n",
            "Epoch 14/50\n",
            "13/13 [==============================] - 0s 6ms/step - loss: 0.4346 - accuracy: 0.7365 - val_loss: 0.3617 - val_accuracy: 0.7745\n",
            "Epoch 15/50\n",
            "13/13 [==============================] - 0s 6ms/step - loss: 0.4214 - accuracy: 0.7414 - val_loss: 0.3740 - val_accuracy: 0.7745\n",
            "Epoch 16/50\n",
            "13/13 [==============================] - 0s 6ms/step - loss: 0.4257 - accuracy: 0.7586 - val_loss: 0.3546 - val_accuracy: 0.8039\n",
            "Epoch 17/50\n",
            "13/13 [==============================] - 0s 5ms/step - loss: 0.3963 - accuracy: 0.7931 - val_loss: 0.3360 - val_accuracy: 0.7843\n",
            "Epoch 18/50\n",
            "13/13 [==============================] - 0s 10ms/step - loss: 0.3977 - accuracy: 0.7931 - val_loss: 0.4054 - val_accuracy: 0.7451\n",
            "Epoch 19/50\n",
            "13/13 [==============================] - 0s 9ms/step - loss: 0.3943 - accuracy: 0.7906 - val_loss: 0.3567 - val_accuracy: 0.7647\n",
            "Epoch 20/50\n",
            "13/13 [==============================] - 0s 10ms/step - loss: 0.3851 - accuracy: 0.7956 - val_loss: 0.3258 - val_accuracy: 0.8333\n",
            "Epoch 21/50\n",
            "13/13 [==============================] - 0s 5ms/step - loss: 0.3749 - accuracy: 0.8128 - val_loss: 0.3254 - val_accuracy: 0.8333\n",
            "Epoch 22/50\n",
            "13/13 [==============================] - 0s 5ms/step - loss: 0.3781 - accuracy: 0.8054 - val_loss: 0.3332 - val_accuracy: 0.8333\n",
            "Epoch 23/50\n",
            "13/13 [==============================] - 0s 6ms/step - loss: 0.3838 - accuracy: 0.8005 - val_loss: 0.3406 - val_accuracy: 0.7941\n",
            "Epoch 24/50\n",
            "13/13 [==============================] - 0s 6ms/step - loss: 0.3806 - accuracy: 0.8103 - val_loss: 0.3367 - val_accuracy: 0.8333\n",
            "Epoch 25/50\n",
            "13/13 [==============================] - 0s 6ms/step - loss: 0.3720 - accuracy: 0.8103 - val_loss: 0.3274 - val_accuracy: 0.8333\n",
            "Epoch 26/50\n",
            "13/13 [==============================] - 0s 5ms/step - loss: 0.3809 - accuracy: 0.7956 - val_loss: 0.3498 - val_accuracy: 0.7843\n",
            "Epoch 27/50\n",
            "13/13 [==============================] - 0s 7ms/step - loss: 0.3750 - accuracy: 0.7956 - val_loss: 0.3240 - val_accuracy: 0.8235\n",
            "Epoch 28/50\n",
            "13/13 [==============================] - 0s 6ms/step - loss: 0.3807 - accuracy: 0.7956 - val_loss: 0.3263 - val_accuracy: 0.8431\n",
            "Epoch 29/50\n",
            "13/13 [==============================] - 0s 6ms/step - loss: 0.3889 - accuracy: 0.7783 - val_loss: 0.3507 - val_accuracy: 0.7745\n",
            "Epoch 30/50\n",
            "13/13 [==============================] - 0s 6ms/step - loss: 0.3876 - accuracy: 0.7783 - val_loss: 0.3359 - val_accuracy: 0.8431\n",
            "Epoch 31/50\n",
            "13/13 [==============================] - 0s 6ms/step - loss: 0.3717 - accuracy: 0.8005 - val_loss: 0.3517 - val_accuracy: 0.7843\n",
            "Epoch 32/50\n",
            "13/13 [==============================] - 0s 5ms/step - loss: 0.3847 - accuracy: 0.7882 - val_loss: 0.3897 - val_accuracy: 0.7549\n",
            "Epoch 33/50\n",
            "13/13 [==============================] - 0s 7ms/step - loss: 0.3962 - accuracy: 0.7833 - val_loss: 0.3772 - val_accuracy: 0.7745\n",
            "Epoch 34/50\n",
            "13/13 [==============================] - 0s 6ms/step - loss: 0.4555 - accuracy: 0.7020 - val_loss: 0.4466 - val_accuracy: 0.6863\n",
            "Epoch 35/50\n",
            "13/13 [==============================] - 0s 6ms/step - loss: 0.4069 - accuracy: 0.7586 - val_loss: 0.3269 - val_accuracy: 0.8235\n",
            "Epoch 36/50\n",
            "13/13 [==============================] - 0s 7ms/step - loss: 0.3646 - accuracy: 0.8202 - val_loss: 0.3359 - val_accuracy: 0.8235\n",
            "Epoch 37/50\n",
            "13/13 [==============================] - 0s 7ms/step - loss: 0.3614 - accuracy: 0.8202 - val_loss: 0.3298 - val_accuracy: 0.8333\n",
            "Epoch 38/50\n",
            "13/13 [==============================] - 0s 5ms/step - loss: 0.3714 - accuracy: 0.8079 - val_loss: 0.3333 - val_accuracy: 0.8235\n",
            "Epoch 39/50\n",
            "13/13 [==============================] - 0s 6ms/step - loss: 0.3797 - accuracy: 0.8054 - val_loss: 0.3559 - val_accuracy: 0.7745\n",
            "Epoch 40/50\n",
            "13/13 [==============================] - 0s 7ms/step - loss: 0.4415 - accuracy: 0.7931 - val_loss: 0.3494 - val_accuracy: 0.8333\n",
            "Epoch 41/50\n",
            "13/13 [==============================] - 0s 7ms/step - loss: 0.3807 - accuracy: 0.8177 - val_loss: 0.3189 - val_accuracy: 0.8333\n",
            "Epoch 42/50\n",
            "13/13 [==============================] - 0s 5ms/step - loss: 0.3633 - accuracy: 0.8177 - val_loss: 0.3324 - val_accuracy: 0.8431\n",
            "Epoch 43/50\n",
            "13/13 [==============================] - 0s 8ms/step - loss: 0.3692 - accuracy: 0.8054 - val_loss: 0.3305 - val_accuracy: 0.8235\n",
            "Epoch 44/50\n",
            "13/13 [==============================] - 0s 7ms/step - loss: 0.3659 - accuracy: 0.8103 - val_loss: 0.3353 - val_accuracy: 0.8333\n",
            "Epoch 45/50\n",
            "13/13 [==============================] - 0s 11ms/step - loss: 0.3631 - accuracy: 0.8079 - val_loss: 0.3232 - val_accuracy: 0.8235\n",
            "Epoch 46/50\n",
            "13/13 [==============================] - 0s 14ms/step - loss: 0.3679 - accuracy: 0.8128 - val_loss: 0.3274 - val_accuracy: 0.8235\n",
            "Epoch 47/50\n",
            "13/13 [==============================] - 0s 10ms/step - loss: 0.3643 - accuracy: 0.8103 - val_loss: 0.3393 - val_accuracy: 0.8235\n",
            "Epoch 48/50\n",
            "13/13 [==============================] - 0s 11ms/step - loss: 0.3477 - accuracy: 0.8202 - val_loss: 0.3396 - val_accuracy: 0.8235\n",
            "Epoch 49/50\n",
            "13/13 [==============================] - 0s 11ms/step - loss: 0.3579 - accuracy: 0.8153 - val_loss: 0.3421 - val_accuracy: 0.8235\n",
            "Epoch 50/50\n",
            "13/13 [==============================] - 0s 14ms/step - loss: 0.3469 - accuracy: 0.8276 - val_loss: 0.3329 - val_accuracy: 0.8137\n",
            "Best epoch: 80\n"
          ]
        }
      ]
    },
    {
      "cell_type": "code",
      "source": [
        "ANN_hypermodel = tuner.hypermodel.build(best_hps)\n",
        "\n",
        "# Retrain the model\n",
        "ANN_hypermodel.fit(X_train, Y_train, epochs = 30, validation_split=0.2)"
      ],
      "metadata": {
        "colab": {
          "base_uri": "https://localhost:8080/"
        },
        "id": "fdx6WsdV-Ghc",
        "outputId": "6cfe5674-b35a-4aec-9261-09428c8088b0"
      },
      "execution_count": null,
      "outputs": [
        {
          "output_type": "stream",
          "name": "stdout",
          "text": [
            "Epoch 1/30\n",
            "13/13 [==============================] - 2s 34ms/step - loss: 0.7345 - accuracy: 0.5764 - val_loss: 0.6973 - val_accuracy: 0.5686\n",
            "Epoch 2/30\n",
            "13/13 [==============================] - 0s 12ms/step - loss: 0.5896 - accuracy: 0.5764 - val_loss: 0.5504 - val_accuracy: 0.5686\n",
            "Epoch 3/30\n",
            "13/13 [==============================] - 0s 11ms/step - loss: 0.5053 - accuracy: 0.6379 - val_loss: 0.4446 - val_accuracy: 0.7647\n",
            "Epoch 4/30\n",
            "13/13 [==============================] - 0s 10ms/step - loss: 0.4884 - accuracy: 0.6626 - val_loss: 0.4404 - val_accuracy: 0.7647\n",
            "Epoch 5/30\n",
            "13/13 [==============================] - 0s 10ms/step - loss: 0.4770 - accuracy: 0.6601 - val_loss: 0.4359 - val_accuracy: 0.7647\n",
            "Epoch 6/30\n",
            "13/13 [==============================] - 0s 11ms/step - loss: 0.4738 - accuracy: 0.6700 - val_loss: 0.4510 - val_accuracy: 0.7745\n",
            "Epoch 7/30\n",
            "13/13 [==============================] - 0s 10ms/step - loss: 0.4599 - accuracy: 0.7192 - val_loss: 0.4294 - val_accuracy: 0.7451\n",
            "Epoch 8/30\n",
            "13/13 [==============================] - 0s 17ms/step - loss: 0.4453 - accuracy: 0.7512 - val_loss: 0.3787 - val_accuracy: 0.7549\n",
            "Epoch 9/30\n",
            "13/13 [==============================] - 0s 14ms/step - loss: 0.4126 - accuracy: 0.7906 - val_loss: 0.4341 - val_accuracy: 0.7549\n",
            "Epoch 10/30\n",
            "13/13 [==============================] - 0s 16ms/step - loss: 0.4014 - accuracy: 0.7734 - val_loss: 0.3613 - val_accuracy: 0.8039\n",
            "Epoch 11/30\n",
            "13/13 [==============================] - 0s 11ms/step - loss: 0.3933 - accuracy: 0.7759 - val_loss: 0.3475 - val_accuracy: 0.7843\n",
            "Epoch 12/30\n",
            "13/13 [==============================] - 0s 14ms/step - loss: 0.3935 - accuracy: 0.7882 - val_loss: 0.3539 - val_accuracy: 0.7843\n",
            "Epoch 13/30\n",
            "13/13 [==============================] - 0s 15ms/step - loss: 0.4062 - accuracy: 0.7759 - val_loss: 0.3485 - val_accuracy: 0.7647\n",
            "Epoch 14/30\n",
            "13/13 [==============================] - 0s 11ms/step - loss: 0.3974 - accuracy: 0.7882 - val_loss: 0.3427 - val_accuracy: 0.7941\n",
            "Epoch 15/30\n",
            "13/13 [==============================] - 0s 15ms/step - loss: 0.3835 - accuracy: 0.7906 - val_loss: 0.3633 - val_accuracy: 0.7941\n",
            "Epoch 16/30\n",
            "13/13 [==============================] - 0s 15ms/step - loss: 0.4055 - accuracy: 0.7857 - val_loss: 0.3577 - val_accuracy: 0.7941\n",
            "Epoch 17/30\n",
            "13/13 [==============================] - 0s 14ms/step - loss: 0.3815 - accuracy: 0.8005 - val_loss: 0.3587 - val_accuracy: 0.7941\n",
            "Epoch 18/30\n",
            "13/13 [==============================] - 0s 18ms/step - loss: 0.3945 - accuracy: 0.7956 - val_loss: 0.3387 - val_accuracy: 0.7745\n",
            "Epoch 19/30\n",
            "13/13 [==============================] - 0s 13ms/step - loss: 0.4105 - accuracy: 0.7512 - val_loss: 0.3352 - val_accuracy: 0.8039\n",
            "Epoch 20/30\n",
            "13/13 [==============================] - 0s 14ms/step - loss: 0.3782 - accuracy: 0.7956 - val_loss: 0.3566 - val_accuracy: 0.7843\n",
            "Epoch 21/30\n",
            "13/13 [==============================] - 0s 15ms/step - loss: 0.3780 - accuracy: 0.7956 - val_loss: 0.3482 - val_accuracy: 0.7843\n",
            "Epoch 22/30\n",
            "13/13 [==============================] - 0s 12ms/step - loss: 0.4012 - accuracy: 0.7685 - val_loss: 0.3906 - val_accuracy: 0.7941\n",
            "Epoch 23/30\n",
            "13/13 [==============================] - 0s 11ms/step - loss: 0.3960 - accuracy: 0.7783 - val_loss: 0.3882 - val_accuracy: 0.7843\n",
            "Epoch 24/30\n",
            "13/13 [==============================] - 0s 11ms/step - loss: 0.4352 - accuracy: 0.7562 - val_loss: 0.3633 - val_accuracy: 0.8039\n",
            "Epoch 25/30\n",
            "13/13 [==============================] - 0s 14ms/step - loss: 0.3915 - accuracy: 0.7980 - val_loss: 0.3379 - val_accuracy: 0.7745\n",
            "Epoch 26/30\n",
            "13/13 [==============================] - 0s 12ms/step - loss: 0.3783 - accuracy: 0.7931 - val_loss: 0.3450 - val_accuracy: 0.8039\n",
            "Epoch 27/30\n",
            "13/13 [==============================] - 0s 15ms/step - loss: 0.3840 - accuracy: 0.8030 - val_loss: 0.3426 - val_accuracy: 0.7941\n",
            "Epoch 28/30\n",
            "13/13 [==============================] - 0s 14ms/step - loss: 0.3729 - accuracy: 0.8005 - val_loss: 0.3554 - val_accuracy: 0.8039\n",
            "Epoch 29/30\n",
            "13/13 [==============================] - 0s 14ms/step - loss: 0.3762 - accuracy: 0.7882 - val_loss: 0.3643 - val_accuracy: 0.8039\n",
            "Epoch 30/30\n",
            "13/13 [==============================] - 0s 10ms/step - loss: 0.3886 - accuracy: 0.7906 - val_loss: 0.3500 - val_accuracy: 0.7941\n"
          ]
        },
        {
          "output_type": "execute_result",
          "data": {
            "text/plain": [
              "<keras.callbacks.History at 0x7efc90935310>"
            ]
          },
          "metadata": {},
          "execution_count": 54
        }
      ]
    },
    {
      "cell_type": "code",
      "source": [
        "eval_result = ANN_hypermodel.evaluate(X_test, Y_test)\n",
        "print(\"[test loss, test accuracy]:\", eval_result)"
      ],
      "metadata": {
        "colab": {
          "base_uri": "https://localhost:8080/"
        },
        "id": "KrIhntQs-Pqj",
        "outputId": "d211f31b-0e10-4fae-ab74-61d6212fcffe"
      },
      "execution_count": null,
      "outputs": [
        {
          "output_type": "stream",
          "name": "stdout",
          "text": [
            "16/16 [==============================] - 0s 3ms/step - loss: 0.4121 - accuracy: 0.7776\n",
            "[test loss, test accuracy]: [0.41213563084602356, 0.7775590419769287]\n"
          ]
        }
      ]
    },
    {
      "cell_type": "code",
      "source": [
        "ANN_result = []\n",
        "ANN_prediction = ANN_hypermodel.predict(X_test)\n",
        "ANN_class = np.round(ANN_prediction).astype(int)\n",
        "for x in ANN_class:\n",
        "  ANN_result.append(x)"
      ],
      "metadata": {
        "id": "4sSRYJNyX7xk"
      },
      "execution_count": null,
      "outputs": []
    },
    {
      "cell_type": "code",
      "source": [
        "print(classification_report(ANN_result, Y_test))"
      ],
      "metadata": {
        "colab": {
          "base_uri": "https://localhost:8080/"
        },
        "id": "E8Yr_Ak2YDrS",
        "outputId": "44eb4d79-3455-4450-960f-33e6f85fdd96"
      },
      "execution_count": null,
      "outputs": [
        {
          "output_type": "stream",
          "name": "stdout",
          "text": [
            "              precision    recall  f1-score   support\n",
            "\n",
            "           0       0.85      0.68      0.76       258\n",
            "           1       0.73      0.88      0.80       250\n",
            "\n",
            "    accuracy                           0.78       508\n",
            "   macro avg       0.79      0.78      0.78       508\n",
            "weighted avg       0.79      0.78      0.78       508\n",
            "\n"
          ]
        }
      ]
    },
    {
      "cell_type": "code",
      "source": [
        "ANN_clf = KerasClassifier(build_fn=ANN_hypermodel, epochs=6, batch_size=64, verbose=0)"
      ],
      "metadata": {
        "colab": {
          "base_uri": "https://localhost:8080/"
        },
        "id": "L3-GoeIVczb6",
        "outputId": "c8da5795-ead6-4b70-c38f-9592d5c2707e"
      },
      "execution_count": null,
      "outputs": [
        {
          "output_type": "stream",
          "name": "stderr",
          "text": [
            "/usr/local/lib/python3.7/dist-packages/ipykernel_launcher.py:1: DeprecationWarning: KerasClassifier is deprecated, use Sci-Keras (https://github.com/adriangb/scikeras) instead. See https://www.adriangb.com/scikeras/stable/migration.html for help migrating.\n",
            "  \"\"\"Entry point for launching an IPython kernel.\n"
          ]
        }
      ]
    },
    {
      "cell_type": "code",
      "source": [
        "from sklearn.model_selection import cross_val_score\n",
        "print(cross_val_score(ANN_clf, X_test, Y_test, cv=10, scoring='accuracy'))"
      ],
      "metadata": {
        "colab": {
          "base_uri": "https://localhost:8080/"
        },
        "id": "_LFDgrp8YNrD",
        "outputId": "a73ef7c6-f373-4c93-e91c-c6243989a7be"
      },
      "execution_count": null,
      "outputs": [
        {
          "output_type": "stream",
          "name": "stdout",
          "text": [
            "[nan nan nan nan nan nan nan nan nan nan]\n"
          ]
        },
        {
          "output_type": "stream",
          "name": "stderr",
          "text": [
            "/usr/local/lib/python3.7/dist-packages/sklearn/model_selection/_validation.py:372: FitFailedWarning: \n",
            "10 fits failed out of a total of 10.\n",
            "The score on these train-test partitions for these parameters will be set to nan.\n",
            "If these failures are not expected, you can try to debug them by setting error_score='raise'.\n",
            "\n",
            "Below are more details about the failures:\n",
            "--------------------------------------------------------------------------------\n",
            "10 fits failed with the following error:\n",
            "Traceback (most recent call last):\n",
            "  File \"/usr/local/lib/python3.7/dist-packages/sklearn/model_selection/_validation.py\", line 680, in _fit_and_score\n",
            "    estimator.fit(X_train, y_train, **fit_params)\n",
            "  File \"/usr/local/lib/python3.7/dist-packages/keras/wrappers/scikit_learn.py\", line 236, in fit\n",
            "    return super(KerasClassifier, self).fit(x, y, **kwargs)\n",
            "  File \"/usr/local/lib/python3.7/dist-packages/keras/wrappers/scikit_learn.py\", line 153, in fit\n",
            "    **self.filter_sk_params(self.build_fn.__call__))\n",
            "  File \"/usr/local/lib/python3.7/dist-packages/keras/utils/traceback_utils.py\", line 67, in error_handler\n",
            "    raise e.with_traceback(filtered_tb) from None\n",
            "  File \"/usr/local/lib/python3.7/dist-packages/keras/engine/base_layer.py\", line 3095, in _split_out_first_arg\n",
            "    'The first argument to `Layer.call` must always be passed.')\n",
            "ValueError: The first argument to `Layer.call` must always be passed.\n",
            "\n",
            "  warnings.warn(some_fits_failed_message, FitFailedWarning)\n"
          ]
        }
      ]
    },
    {
      "cell_type": "markdown",
      "source": [
        "# Saving to JSON file"
      ],
      "metadata": {
        "id": "0jKMC4O6b1Cl"
      }
    },
    {
      "cell_type": "code",
      "source": [
        "ANN_model_json = ANN_hypermodel.to_json()\n",
        "with open(\"ANN_model.json\", \"w\") as json_file:\n",
        "    json_file.write(ANN_model_json)\n",
        "\n",
        "# serialize weights to HDF5\n",
        "ANN_model.save_weights(\"ANN_model.h5\")\n",
        "print(\"Saved model to disk\")"
      ],
      "metadata": {
        "colab": {
          "base_uri": "https://localhost:8080/"
        },
        "id": "UdA42iG1b4TG",
        "outputId": "f8872cfe-1a56-4272-b114-82cc19720d48"
      },
      "execution_count": null,
      "outputs": [
        {
          "output_type": "stream",
          "name": "stdout",
          "text": [
            "Saved model to disk\n"
          ]
        }
      ]
    }
  ],
  "metadata": {
    "colab": {
      "collapsed_sections": [
        "86osJ7-rvAEa",
        "6PqZ45qivPA7",
        "TmVBEX26vKJO"
      ],
      "provenance": []
    },
    "kernelspec": {
      "display_name": "Python 3",
      "name": "python3"
    },
    "language_info": {
      "name": "python"
    }
  },
  "nbformat": 4,
  "nbformat_minor": 0
}