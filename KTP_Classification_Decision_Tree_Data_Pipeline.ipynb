{
  "cells": [
    {
      "cell_type": "markdown",
      "metadata": {
        "id": "d3U0T-ZAvE5E"
      },
      "source": [
        "# Data Loading "
      ]
    },
    {
      "cell_type": "markdown",
      "metadata": {
        "id": "N7HGkTXgqy6B"
      },
      "source": [
        "Loading necessary GDrive "
      ]
    },
    {
      "cell_type": "code",
      "execution_count": null,
      "metadata": {
        "colab": {
          "base_uri": "https://localhost:8080/"
        },
        "id": "aTjKHCovqy-w",
        "outputId": "5c0bb308-19d2-476e-b26c-ae4162f80bec"
      },
      "outputs": [
        {
          "output_type": "stream",
          "name": "stdout",
          "text": [
            "Mounted at /content/drive\n"
          ]
        }
      ],
      "source": [
        "from google.colab import drive\n",
        "drive.mount('/content/drive')"
      ]
    },
    {
      "cell_type": "markdown",
      "metadata": {
        "id": "0Ln3S863FmrQ"
      },
      "source": [
        "Installing image loading packages "
      ]
    },
    {
      "cell_type": "code",
      "execution_count": null,
      "metadata": {
        "id": "TefcmVpvu214"
      },
      "outputs": [],
      "source": [
        "import numpy as np \n",
        "import matplotlib.pyplot as plt \n",
        "import os \n",
        "import cv2\n",
        "from PIL import Image,ImageStat\n",
        "import math\n",
        "import pandas as pd\n",
        "from scipy import ndimage\n",
        "import matplotlib as plt"
      ]
    },
    {
      "cell_type": "markdown",
      "metadata": {
        "id": "6PqZ45qivPA7"
      },
      "source": [
        "# Data Pre-Processing"
      ]
    },
    {
      "cell_type": "markdown",
      "metadata": {
        "id": "psp9DiamalYK"
      },
      "source": [
        "Creating directory "
      ]
    },
    {
      "cell_type": "code",
      "execution_count": null,
      "metadata": {
        "id": "qg1IJ6sIvRzb"
      },
      "outputs": [],
      "source": [
        "DATADIR = \"/content/drive/MyDrive/EDTS/KTP Classification /dataset_ktp\"\n",
        "CATEGORIES = ['fotocopy', 'real']"
      ]
    },
    {
      "cell_type": "markdown",
      "metadata": {
        "id": "kel3aYQ-bIMG"
      },
      "source": [
        "Luminance"
      ]
    },
    {
      "cell_type": "code",
      "execution_count": null,
      "metadata": {
        "id": "g69WwEoHbIQp"
      },
      "outputs": [],
      "source": [
        "luminance_data = []"
      ]
    },
    {
      "cell_type": "code",
      "execution_count": null,
      "metadata": {
        "id": "HoKSab6DbKkh"
      },
      "outputs": [],
      "source": [
        "def find_luminance():\n",
        "  for category in CATEGORIES: \n",
        "    # Determine path and indexing class \n",
        "    path = os.path.join(DATADIR,category)\n",
        "    class_num = CATEGORIES.index(category)\n",
        "    # For every image in path\n",
        "    for img in os.listdir(path):\n",
        "      # Reads image and then converts to HSV and take third channel\n",
        "      img_array = Image.open(os.path.join(path,img))\n",
        "      stat = ImageStat.Stat(img_array)\n",
        "      r,g,b = stat.rms\n",
        "      lum = math.sqrt(0.241*(r**2) + 0.691*(g**2) + 0.068*(b**2))\n",
        "      luminance_data.append([class_num, lum])\n",
        "\n",
        "find_luminance()"
      ]
    },
    {
      "cell_type": "code",
      "execution_count": null,
      "metadata": {
        "id": "EJx_WOHQbOHx"
      },
      "outputs": [],
      "source": [
        "main_df = pd.DataFrame(luminance_data, columns = ['Photo Label', 'Luminance'])"
      ]
    },
    {
      "cell_type": "markdown",
      "metadata": {
        "id": "mWhSxWwSfY3x"
      },
      "source": [
        "R,G,B Mean "
      ]
    },
    {
      "cell_type": "code",
      "execution_count": null,
      "metadata": {
        "id": "uxxdmpragfb6"
      },
      "outputs": [],
      "source": [
        "b_avg = []\n",
        "g_avg = []\n",
        "r_avg = []"
      ]
    },
    {
      "cell_type": "code",
      "execution_count": null,
      "metadata": {
        "id": "3mS_ras5ghmh"
      },
      "outputs": [],
      "source": [
        "def find_rgb_avg():\n",
        "  for category in CATEGORIES: \n",
        "    # Determine path and indexing class \n",
        "    path = os.path.join(DATADIR,category)\n",
        "    class_num = CATEGORIES.index(category)\n",
        "    # For every image in path\n",
        "    for img in os.listdir(path):\n",
        "      # Reads image and then converts to HSV and splits the RGB channels\n",
        "      img_array = cv2.imread(os.path.join(path,img))\n",
        "      b_arr, g_arr, r_arr = cv2.split(img_array)\n",
        "      # Get the average of the rows of B values in a picture\n",
        "      b_mean_row = np.average(b_arr, axis=0)\n",
        "      g_mean_row = np.average(g_arr, axis=0)\n",
        "      r_mean_row = np.average(r_arr, axis=0)\n",
        "      # Average again the total B values in a single picture (X and Y)\n",
        "      b = np.average(b_mean_row, axis = 0)\n",
        "      g = np.average(g_mean_row, axis = 0)\n",
        "      r = np.average(r_mean_row, axis = 0)\n",
        "      # Append values to the list \n",
        "      b_avg.append(b)\n",
        "      g_avg.append(g)\n",
        "      r_avg.append(r)\n",
        "      \n",
        "find_rgb_avg() "
      ]
    },
    {
      "cell_type": "code",
      "execution_count": null,
      "metadata": {
        "id": "zn7R8RPZglNh"
      },
      "outputs": [],
      "source": [
        "main_df['R Mean'] = r_avg\n",
        "main_df['G Mean'] = g_avg\n",
        "main_df['B Mean'] = b_avg"
      ]
    },
    {
      "cell_type": "code",
      "execution_count": null,
      "metadata": {
        "colab": {
          "base_uri": "https://localhost:8080/"
        },
        "id": "uikK1qTvhOUi",
        "outputId": "1e29ee31-3f85-486f-da5e-91aa4a6cabb2"
      },
      "outputs": [
        {
          "output_type": "execute_result",
          "data": {
            "text/plain": [
              "   Photo Label   Luminance      R Mean      G Mean      B Mean\n",
              "0            0  108.015872   94.084645   89.826063   89.760041\n",
              "1            0  152.420934  147.113395  145.296944  143.911775\n",
              "2            0  175.078256  185.539143  169.691959  156.873306\n",
              "3            0  124.114468  114.699943  110.439527  109.353926\n",
              "4            0  105.774837  100.529764  101.124736  100.981274"
            ],
            "text/html": [
              "\n",
              "  <div id=\"df-ddf8c458-54e0-4e50-9ace-3c50b0dbd2c6\">\n",
              "    <div class=\"colab-df-container\">\n",
              "      <div>\n",
              "<style scoped>\n",
              "    .dataframe tbody tr th:only-of-type {\n",
              "        vertical-align: middle;\n",
              "    }\n",
              "\n",
              "    .dataframe tbody tr th {\n",
              "        vertical-align: top;\n",
              "    }\n",
              "\n",
              "    .dataframe thead th {\n",
              "        text-align: right;\n",
              "    }\n",
              "</style>\n",
              "<table border=\"1\" class=\"dataframe\">\n",
              "  <thead>\n",
              "    <tr style=\"text-align: right;\">\n",
              "      <th></th>\n",
              "      <th>Photo Label</th>\n",
              "      <th>Luminance</th>\n",
              "      <th>R Mean</th>\n",
              "      <th>G Mean</th>\n",
              "      <th>B Mean</th>\n",
              "    </tr>\n",
              "  </thead>\n",
              "  <tbody>\n",
              "    <tr>\n",
              "      <th>0</th>\n",
              "      <td>0</td>\n",
              "      <td>108.015872</td>\n",
              "      <td>94.084645</td>\n",
              "      <td>89.826063</td>\n",
              "      <td>89.760041</td>\n",
              "    </tr>\n",
              "    <tr>\n",
              "      <th>1</th>\n",
              "      <td>0</td>\n",
              "      <td>152.420934</td>\n",
              "      <td>147.113395</td>\n",
              "      <td>145.296944</td>\n",
              "      <td>143.911775</td>\n",
              "    </tr>\n",
              "    <tr>\n",
              "      <th>2</th>\n",
              "      <td>0</td>\n",
              "      <td>175.078256</td>\n",
              "      <td>185.539143</td>\n",
              "      <td>169.691959</td>\n",
              "      <td>156.873306</td>\n",
              "    </tr>\n",
              "    <tr>\n",
              "      <th>3</th>\n",
              "      <td>0</td>\n",
              "      <td>124.114468</td>\n",
              "      <td>114.699943</td>\n",
              "      <td>110.439527</td>\n",
              "      <td>109.353926</td>\n",
              "    </tr>\n",
              "    <tr>\n",
              "      <th>4</th>\n",
              "      <td>0</td>\n",
              "      <td>105.774837</td>\n",
              "      <td>100.529764</td>\n",
              "      <td>101.124736</td>\n",
              "      <td>100.981274</td>\n",
              "    </tr>\n",
              "  </tbody>\n",
              "</table>\n",
              "</div>\n",
              "      <button class=\"colab-df-convert\" onclick=\"convertToInteractive('df-ddf8c458-54e0-4e50-9ace-3c50b0dbd2c6')\"\n",
              "              title=\"Convert this dataframe to an interactive table.\"\n",
              "              style=\"display:none;\">\n",
              "        \n",
              "  <svg xmlns=\"http://www.w3.org/2000/svg\" height=\"24px\"viewBox=\"0 0 24 24\"\n",
              "       width=\"24px\">\n",
              "    <path d=\"M0 0h24v24H0V0z\" fill=\"none\"/>\n",
              "    <path d=\"M18.56 5.44l.94 2.06.94-2.06 2.06-.94-2.06-.94-.94-2.06-.94 2.06-2.06.94zm-11 1L8.5 8.5l.94-2.06 2.06-.94-2.06-.94L8.5 2.5l-.94 2.06-2.06.94zm10 10l.94 2.06.94-2.06 2.06-.94-2.06-.94-.94-2.06-.94 2.06-2.06.94z\"/><path d=\"M17.41 7.96l-1.37-1.37c-.4-.4-.92-.59-1.43-.59-.52 0-1.04.2-1.43.59L10.3 9.45l-7.72 7.72c-.78.78-.78 2.05 0 2.83L4 21.41c.39.39.9.59 1.41.59.51 0 1.02-.2 1.41-.59l7.78-7.78 2.81-2.81c.8-.78.8-2.07 0-2.86zM5.41 20L4 18.59l7.72-7.72 1.47 1.35L5.41 20z\"/>\n",
              "  </svg>\n",
              "      </button>\n",
              "      \n",
              "  <style>\n",
              "    .colab-df-container {\n",
              "      display:flex;\n",
              "      flex-wrap:wrap;\n",
              "      gap: 12px;\n",
              "    }\n",
              "\n",
              "    .colab-df-convert {\n",
              "      background-color: #E8F0FE;\n",
              "      border: none;\n",
              "      border-radius: 50%;\n",
              "      cursor: pointer;\n",
              "      display: none;\n",
              "      fill: #1967D2;\n",
              "      height: 32px;\n",
              "      padding: 0 0 0 0;\n",
              "      width: 32px;\n",
              "    }\n",
              "\n",
              "    .colab-df-convert:hover {\n",
              "      background-color: #E2EBFA;\n",
              "      box-shadow: 0px 1px 2px rgba(60, 64, 67, 0.3), 0px 1px 3px 1px rgba(60, 64, 67, 0.15);\n",
              "      fill: #174EA6;\n",
              "    }\n",
              "\n",
              "    [theme=dark] .colab-df-convert {\n",
              "      background-color: #3B4455;\n",
              "      fill: #D2E3FC;\n",
              "    }\n",
              "\n",
              "    [theme=dark] .colab-df-convert:hover {\n",
              "      background-color: #434B5C;\n",
              "      box-shadow: 0px 1px 3px 1px rgba(0, 0, 0, 0.15);\n",
              "      filter: drop-shadow(0px 1px 2px rgba(0, 0, 0, 0.3));\n",
              "      fill: #FFFFFF;\n",
              "    }\n",
              "  </style>\n",
              "\n",
              "      <script>\n",
              "        const buttonEl =\n",
              "          document.querySelector('#df-ddf8c458-54e0-4e50-9ace-3c50b0dbd2c6 button.colab-df-convert');\n",
              "        buttonEl.style.display =\n",
              "          google.colab.kernel.accessAllowed ? 'block' : 'none';\n",
              "\n",
              "        async function convertToInteractive(key) {\n",
              "          const element = document.querySelector('#df-ddf8c458-54e0-4e50-9ace-3c50b0dbd2c6');\n",
              "          const dataTable =\n",
              "            await google.colab.kernel.invokeFunction('convertToInteractive',\n",
              "                                                     [key], {});\n",
              "          if (!dataTable) return;\n",
              "\n",
              "          const docLinkHtml = 'Like what you see? Visit the ' +\n",
              "            '<a target=\"_blank\" href=https://colab.research.google.com/notebooks/data_table.ipynb>data table notebook</a>'\n",
              "            + ' to learn more about interactive tables.';\n",
              "          element.innerHTML = '';\n",
              "          dataTable['output_type'] = 'display_data';\n",
              "          await google.colab.output.renderOutput(dataTable, element);\n",
              "          const docLink = document.createElement('div');\n",
              "          docLink.innerHTML = docLinkHtml;\n",
              "          element.appendChild(docLink);\n",
              "        }\n",
              "      </script>\n",
              "    </div>\n",
              "  </div>\n",
              "  "
            ]
          },
          "metadata": {},
          "execution_count": 13
        }
      ],
      "source": [
        "main_df.head()"
      ]
    },
    {
      "cell_type": "markdown",
      "metadata": {
        "id": "59-vN42ikxoJ"
      },
      "source": [
        "R,G,B Variance"
      ]
    },
    {
      "cell_type": "code",
      "execution_count": null,
      "metadata": {
        "id": "5AA7ilORlFCZ"
      },
      "outputs": [],
      "source": [
        "b_var = []\n",
        "g_var = []\n",
        "r_var = []"
      ]
    },
    {
      "cell_type": "code",
      "execution_count": null,
      "metadata": {
        "id": "PJL6f_-slKKh"
      },
      "outputs": [],
      "source": [
        "def find_rgb_var():\n",
        "  for category in CATEGORIES: \n",
        "    # Determine path and indexing class \n",
        "    path = os.path.join(DATADIR,category)\n",
        "    class_num = CATEGORIES.index(category)\n",
        "    # For every image in path\n",
        "    for img in os.listdir(path):\n",
        "      # Reads image and then converts to HSV and take third channel\n",
        "      img_array = cv2.imread(os.path.join(path,img))\n",
        "      b_arr, g_arr, r_arr = cv2.split(img_array)\n",
        "      # Finding variance using scipy package\n",
        "      b  = ndimage.variance(b_arr)\n",
        "      g = ndimage.variance(g_arr)\n",
        "      r = ndimage.variance(r_arr)\n",
        "      # Append values to list \n",
        "      b_var.append(b)\n",
        "      g_var.append(g)\n",
        "      r_var.append(r)\n",
        "      \n",
        "find_rgb_var()"
      ]
    },
    {
      "cell_type": "code",
      "execution_count": null,
      "metadata": {
        "id": "MpNX0eiUltmS"
      },
      "outputs": [],
      "source": [
        "main_df['R Variance'] = r_var\n",
        "main_df['G Variance'] = g_var\n",
        "main_df['B Variance'] = b_var"
      ]
    },
    {
      "cell_type": "markdown",
      "metadata": {
        "id": "_sOg-GGdl5gX"
      },
      "source": [
        "Gray Variance"
      ]
    },
    {
      "cell_type": "code",
      "execution_count": null,
      "metadata": {
        "id": "XGEUB_Awl_hn"
      },
      "outputs": [],
      "source": [
        "var_gray = []"
      ]
    },
    {
      "cell_type": "code",
      "execution_count": null,
      "metadata": {
        "id": "NymMSDxSmTrB"
      },
      "outputs": [],
      "source": [
        "def find_gray_var():\n",
        "  for category in CATEGORIES: \n",
        "    # Determine path and indexing class \n",
        "    path = os.path.join(DATADIR,category)\n",
        "    class_num = CATEGORIES.index(category)\n",
        "    # For every image in path\n",
        "    for img in os.listdir(path):\n",
        "      # Reads image and then converts to HSV and take third channel\n",
        "      img_array = cv2.imread(os.path.join(path,img), cv2.IMREAD_GRAYSCALE)\n",
        "      laplacian = ndimage.laplace(img_array).var()\n",
        "      var_gray.append(laplacian)\n",
        "\n",
        "find_gray_var()"
      ]
    },
    {
      "cell_type": "code",
      "execution_count": null,
      "metadata": {
        "id": "q3QHX8fmmVfL"
      },
      "outputs": [],
      "source": [
        "main_df['Gray Variance'] = var_gray"
      ]
    },
    {
      "cell_type": "markdown",
      "metadata": {
        "id": "Wg_vf2rVmegA"
      },
      "source": [
        "Blur "
      ]
    },
    {
      "cell_type": "code",
      "execution_count": null,
      "metadata": {
        "id": "gFwko_2bmx54"
      },
      "outputs": [],
      "source": [
        "blur_val = []"
      ]
    },
    {
      "cell_type": "code",
      "execution_count": null,
      "metadata": {
        "id": "JLYWeRU5nBkR"
      },
      "outputs": [],
      "source": [
        "def find_blur():\n",
        "  for category in CATEGORIES: \n",
        "    # Determine path and indexing class \n",
        "    path = os.path.join(DATADIR,category)\n",
        "    class_num = CATEGORIES.index(category)\n",
        "    # For every image in path\n",
        "    for img in os.listdir(path):\n",
        "      # Reads image and then converts to HSV and take third channel\n",
        "      img_array = cv2.imread(os.path.join(path,img))\n",
        "      blur = cv2.Laplacian(img_array, cv2.CV_64F).var()\n",
        "      blur_val.append(blur)\n",
        "\n",
        "find_blur()"
      ]
    },
    {
      "cell_type": "code",
      "execution_count": null,
      "metadata": {
        "id": "Ge75yChLnDLA"
      },
      "outputs": [],
      "source": [
        "main_df['Blur'] = blur_val"
      ]
    },
    {
      "cell_type": "markdown",
      "metadata": {
        "id": "4GHZvSS3mmDf"
      },
      "source": [
        "Sharpness"
      ]
    },
    {
      "cell_type": "code",
      "execution_count": null,
      "metadata": {
        "id": "RwVCOaKvmybg"
      },
      "outputs": [],
      "source": [
        "sharpness = []"
      ]
    },
    {
      "cell_type": "code",
      "execution_count": null,
      "metadata": {
        "id": "KcTq_hJRnvGE"
      },
      "outputs": [],
      "source": [
        "def find_sharpness():\n",
        "  for category in CATEGORIES: \n",
        "    # Determine path and indexing class \n",
        "    path = os.path.join(DATADIR,category)\n",
        "    class_num = CATEGORIES.index(category)\n",
        "    # For every image in path\n",
        "    for img in os.listdir(path):\n",
        "      # Reads image and then converts to HSV and take third channel\n",
        "      img_array = cv2.imread(os.path.join(path,img))\n",
        "      img_HLS_array = cv2.cvtColor(img_array, cv2.COLOR_BGR2HLS)\n",
        "      L = img_HLS_array[:, :, 1]\n",
        "      u = np.mean(L)\n",
        "      LP = cv2.Laplacian(L, cv2.CV_64F).var()\n",
        "      sharp = np.sum(LP / u)\n",
        "      sharpness.append(sharp)\n",
        "\n",
        "find_sharpness()"
      ]
    },
    {
      "cell_type": "code",
      "execution_count": null,
      "metadata": {
        "id": "8CgnLNZ-n1DY"
      },
      "outputs": [],
      "source": [
        "main_df['Sharpness'] = sharpness"
      ]
    },
    {
      "cell_type": "markdown",
      "metadata": {
        "id": "yQ_RJ0s6moc5"
      },
      "source": [
        "Distinct Pixel Rate "
      ]
    },
    {
      "cell_type": "code",
      "execution_count": null,
      "metadata": {
        "id": "25usqbe2my4w"
      },
      "outputs": [],
      "source": [
        "resolution = []"
      ]
    },
    {
      "cell_type": "code",
      "execution_count": null,
      "metadata": {
        "id": "sBevrRsqn-NK"
      },
      "outputs": [],
      "source": [
        "def find_resolution():\n",
        "  for category in CATEGORIES: \n",
        "    # Determine path and indexing class \n",
        "    path = os.path.join(DATADIR,category)\n",
        "    class_num = CATEGORIES.index(category)\n",
        "    # For every image in path\n",
        "    for img in os.listdir(path):\n",
        "      # Reads image and then converts to HSV and take third channel\n",
        "      img_array = cv2.imread(os.path.join(path,img))\n",
        "      height, width = img_array.shape[:2]\n",
        "      distinct_pix = height * width\n",
        "\n",
        "      resolution.append(distinct_pix)\n",
        "\n",
        "find_resolution()"
      ]
    },
    {
      "cell_type": "code",
      "execution_count": null,
      "metadata": {
        "id": "ZI95pu0bn_xR"
      },
      "outputs": [],
      "source": [
        "main_df['Resolution'] = resolution"
      ]
    },
    {
      "cell_type": "markdown",
      "metadata": {
        "id": "PLLa-1y0mrZY"
      },
      "source": [
        "Saturation"
      ]
    },
    {
      "cell_type": "code",
      "execution_count": null,
      "metadata": {
        "id": "p6JSzt6RmzWY"
      },
      "outputs": [],
      "source": [
        "saturation = []"
      ]
    },
    {
      "cell_type": "code",
      "execution_count": null,
      "metadata": {
        "id": "iXNJvTjuoJrp"
      },
      "outputs": [],
      "source": [
        "def find_saturation():\n",
        "  for category in CATEGORIES: \n",
        "    # Determine path and indexing class \n",
        "    path = os.path.join(DATADIR,category)\n",
        "    class_num = CATEGORIES.index(category)\n",
        "    # For every image in path\n",
        "    for img in os.listdir(path):\n",
        "      # Reads image and then converts to HSV and take third channel\n",
        "      img_array = cv2.imread(os.path.join(path,img))\n",
        "      img_HLS_array = cv2.cvtColor(img_array, cv2.COLOR_BGR2HLS)\n",
        "      sat = img_HLS_array[:, :, 1].mean()\n",
        "      \n",
        "      saturation.append(sat)\n",
        "\n",
        "find_saturation()"
      ]
    },
    {
      "cell_type": "code",
      "execution_count": null,
      "metadata": {
        "id": "3K4tqrbIoLMr"
      },
      "outputs": [],
      "source": [
        "main_df['Saturation'] = saturation"
      ]
    },
    {
      "cell_type": "markdown",
      "metadata": {
        "id": "nv-F3B1WmteX"
      },
      "source": [
        "Colorfulness"
      ]
    },
    {
      "cell_type": "code",
      "execution_count": null,
      "metadata": {
        "id": "GdfRPZjjmzvg"
      },
      "outputs": [],
      "source": [
        "colorfulness = []"
      ]
    },
    {
      "cell_type": "code",
      "execution_count": null,
      "metadata": {
        "id": "DCkjADK0oVLK"
      },
      "outputs": [],
      "source": [
        "def find_colorfulness():\n",
        "  for category in CATEGORIES: \n",
        "    # Determine path and indexing class \n",
        "    path = os.path.join(DATADIR,category)\n",
        "    class_num = CATEGORIES.index(category)\n",
        "    \n",
        "    # For every image in path\n",
        "    for img in os.listdir(path):\n",
        "      # Reads image and then converts to HSV and take third channel\n",
        "      img_array = cv2.imread(os.path.join(path,img))\n",
        "      # split the image into its respective RGB components\n",
        "      (B, G, R) = cv2.split(img_array.astype(\"float\"))\n",
        "      # compute rg = R - G\n",
        "      rg = np.absolute(R - G)\n",
        "      # compute yb = 0.5 * (R + G) - B\n",
        "      yb = np.absolute(0.5 * (R + G) - B)\n",
        "      # compute the mean and standard deviation of both `rg` and `yb`\n",
        "      (rbMean, rbStd) = (np.mean(rg), np.std(rg))\n",
        "      (ybMean, ybStd) = (np.mean(yb), np.std(yb))\n",
        "      # combine the mean and standard deviations\n",
        "      stdRoot = np.sqrt((rbStd ** 2) + (ybStd ** 2))\n",
        "      meanRoot = np.sqrt((rbMean ** 2) + (ybMean ** 2))\n",
        "      # derive the \"colorfulness\" metric and return it\n",
        "      colorful = stdRoot + (0.3 * meanRoot)\n",
        "      \n",
        "      colorfulness.append(colorful)\n",
        "\n",
        "find_colorfulness()"
      ]
    },
    {
      "cell_type": "code",
      "execution_count": null,
      "metadata": {
        "id": "-bQG2WgyoXdH"
      },
      "outputs": [],
      "source": [
        "main_df['Colorfulness'] = colorfulness"
      ]
    },
    {
      "cell_type": "markdown",
      "metadata": {
        "id": "6SaQt8_NoduU"
      },
      "source": [
        "Printing the DataFrame Constructed"
      ]
    },
    {
      "cell_type": "code",
      "execution_count": null,
      "metadata": {
        "colab": {
          "base_uri": "https://localhost:8080/"
        },
        "id": "078sDvW7og3J",
        "outputId": "89637e38-343c-4bba-d1d4-c64c6ca81b03"
      },
      "outputs": [
        {
          "output_type": "execute_result",
          "data": {
            "text/plain": [
              "   Photo Label   Luminance      R Mean      G Mean      B Mean   R Variance  \\\n",
              "0            0  108.015872   94.084645   89.826063   89.760041  3140.660225   \n",
              "1            0  152.420934  147.113395  145.296944  143.911775  1960.778592   \n",
              "2            0  175.078256  185.539143  169.691959  156.873306   772.147733   \n",
              "3            0  124.114468  114.699943  110.439527  109.353926  2667.221786   \n",
              "4            0  105.774837  100.529764  101.124736  100.981274   986.460310   \n",
              "\n",
              "    G Variance   B Variance  Gray Variance         Blur  Sharpness  \\\n",
              "0  3457.591306  3891.504497   11394.115528   979.797994  10.668554   \n",
              "1  2030.408707  2065.324670    7847.201504  3587.070781  24.669289   \n",
              "2   789.514703   819.591336   13014.157600   551.180912   3.229098   \n",
              "3  3094.870946  3111.011797   13895.018146   196.655125   1.755649   \n",
              "4   996.568841   994.046831   12009.326236  1187.462301  11.775583   \n",
              "\n",
              "   Resolution  Saturation  Colorfulness  \n",
              "0      111040   92.011807      6.582818  \n",
              "1       64800  145.665772      3.851335  \n",
              "2       49000  171.468143     11.803814  \n",
              "3       70560  112.047222      6.311370  \n",
              "4       55806  100.832581      1.652960  "
            ],
            "text/html": [
              "\n",
              "  <div id=\"df-d585198d-5aa6-45ba-8318-ffab0324fbc2\">\n",
              "    <div class=\"colab-df-container\">\n",
              "      <div>\n",
              "<style scoped>\n",
              "    .dataframe tbody tr th:only-of-type {\n",
              "        vertical-align: middle;\n",
              "    }\n",
              "\n",
              "    .dataframe tbody tr th {\n",
              "        vertical-align: top;\n",
              "    }\n",
              "\n",
              "    .dataframe thead th {\n",
              "        text-align: right;\n",
              "    }\n",
              "</style>\n",
              "<table border=\"1\" class=\"dataframe\">\n",
              "  <thead>\n",
              "    <tr style=\"text-align: right;\">\n",
              "      <th></th>\n",
              "      <th>Photo Label</th>\n",
              "      <th>Luminance</th>\n",
              "      <th>R Mean</th>\n",
              "      <th>G Mean</th>\n",
              "      <th>B Mean</th>\n",
              "      <th>R Variance</th>\n",
              "      <th>G Variance</th>\n",
              "      <th>B Variance</th>\n",
              "      <th>Gray Variance</th>\n",
              "      <th>Blur</th>\n",
              "      <th>Sharpness</th>\n",
              "      <th>Resolution</th>\n",
              "      <th>Saturation</th>\n",
              "      <th>Colorfulness</th>\n",
              "    </tr>\n",
              "  </thead>\n",
              "  <tbody>\n",
              "    <tr>\n",
              "      <th>0</th>\n",
              "      <td>0</td>\n",
              "      <td>108.015872</td>\n",
              "      <td>94.084645</td>\n",
              "      <td>89.826063</td>\n",
              "      <td>89.760041</td>\n",
              "      <td>3140.660225</td>\n",
              "      <td>3457.591306</td>\n",
              "      <td>3891.504497</td>\n",
              "      <td>11394.115528</td>\n",
              "      <td>979.797994</td>\n",
              "      <td>10.668554</td>\n",
              "      <td>111040</td>\n",
              "      <td>92.011807</td>\n",
              "      <td>6.582818</td>\n",
              "    </tr>\n",
              "    <tr>\n",
              "      <th>1</th>\n",
              "      <td>0</td>\n",
              "      <td>152.420934</td>\n",
              "      <td>147.113395</td>\n",
              "      <td>145.296944</td>\n",
              "      <td>143.911775</td>\n",
              "      <td>1960.778592</td>\n",
              "      <td>2030.408707</td>\n",
              "      <td>2065.324670</td>\n",
              "      <td>7847.201504</td>\n",
              "      <td>3587.070781</td>\n",
              "      <td>24.669289</td>\n",
              "      <td>64800</td>\n",
              "      <td>145.665772</td>\n",
              "      <td>3.851335</td>\n",
              "    </tr>\n",
              "    <tr>\n",
              "      <th>2</th>\n",
              "      <td>0</td>\n",
              "      <td>175.078256</td>\n",
              "      <td>185.539143</td>\n",
              "      <td>169.691959</td>\n",
              "      <td>156.873306</td>\n",
              "      <td>772.147733</td>\n",
              "      <td>789.514703</td>\n",
              "      <td>819.591336</td>\n",
              "      <td>13014.157600</td>\n",
              "      <td>551.180912</td>\n",
              "      <td>3.229098</td>\n",
              "      <td>49000</td>\n",
              "      <td>171.468143</td>\n",
              "      <td>11.803814</td>\n",
              "    </tr>\n",
              "    <tr>\n",
              "      <th>3</th>\n",
              "      <td>0</td>\n",
              "      <td>124.114468</td>\n",
              "      <td>114.699943</td>\n",
              "      <td>110.439527</td>\n",
              "      <td>109.353926</td>\n",
              "      <td>2667.221786</td>\n",
              "      <td>3094.870946</td>\n",
              "      <td>3111.011797</td>\n",
              "      <td>13895.018146</td>\n",
              "      <td>196.655125</td>\n",
              "      <td>1.755649</td>\n",
              "      <td>70560</td>\n",
              "      <td>112.047222</td>\n",
              "      <td>6.311370</td>\n",
              "    </tr>\n",
              "    <tr>\n",
              "      <th>4</th>\n",
              "      <td>0</td>\n",
              "      <td>105.774837</td>\n",
              "      <td>100.529764</td>\n",
              "      <td>101.124736</td>\n",
              "      <td>100.981274</td>\n",
              "      <td>986.460310</td>\n",
              "      <td>996.568841</td>\n",
              "      <td>994.046831</td>\n",
              "      <td>12009.326236</td>\n",
              "      <td>1187.462301</td>\n",
              "      <td>11.775583</td>\n",
              "      <td>55806</td>\n",
              "      <td>100.832581</td>\n",
              "      <td>1.652960</td>\n",
              "    </tr>\n",
              "  </tbody>\n",
              "</table>\n",
              "</div>\n",
              "      <button class=\"colab-df-convert\" onclick=\"convertToInteractive('df-d585198d-5aa6-45ba-8318-ffab0324fbc2')\"\n",
              "              title=\"Convert this dataframe to an interactive table.\"\n",
              "              style=\"display:none;\">\n",
              "        \n",
              "  <svg xmlns=\"http://www.w3.org/2000/svg\" height=\"24px\"viewBox=\"0 0 24 24\"\n",
              "       width=\"24px\">\n",
              "    <path d=\"M0 0h24v24H0V0z\" fill=\"none\"/>\n",
              "    <path d=\"M18.56 5.44l.94 2.06.94-2.06 2.06-.94-2.06-.94-.94-2.06-.94 2.06-2.06.94zm-11 1L8.5 8.5l.94-2.06 2.06-.94-2.06-.94L8.5 2.5l-.94 2.06-2.06.94zm10 10l.94 2.06.94-2.06 2.06-.94-2.06-.94-.94-2.06-.94 2.06-2.06.94z\"/><path d=\"M17.41 7.96l-1.37-1.37c-.4-.4-.92-.59-1.43-.59-.52 0-1.04.2-1.43.59L10.3 9.45l-7.72 7.72c-.78.78-.78 2.05 0 2.83L4 21.41c.39.39.9.59 1.41.59.51 0 1.02-.2 1.41-.59l7.78-7.78 2.81-2.81c.8-.78.8-2.07 0-2.86zM5.41 20L4 18.59l7.72-7.72 1.47 1.35L5.41 20z\"/>\n",
              "  </svg>\n",
              "      </button>\n",
              "      \n",
              "  <style>\n",
              "    .colab-df-container {\n",
              "      display:flex;\n",
              "      flex-wrap:wrap;\n",
              "      gap: 12px;\n",
              "    }\n",
              "\n",
              "    .colab-df-convert {\n",
              "      background-color: #E8F0FE;\n",
              "      border: none;\n",
              "      border-radius: 50%;\n",
              "      cursor: pointer;\n",
              "      display: none;\n",
              "      fill: #1967D2;\n",
              "      height: 32px;\n",
              "      padding: 0 0 0 0;\n",
              "      width: 32px;\n",
              "    }\n",
              "\n",
              "    .colab-df-convert:hover {\n",
              "      background-color: #E2EBFA;\n",
              "      box-shadow: 0px 1px 2px rgba(60, 64, 67, 0.3), 0px 1px 3px 1px rgba(60, 64, 67, 0.15);\n",
              "      fill: #174EA6;\n",
              "    }\n",
              "\n",
              "    [theme=dark] .colab-df-convert {\n",
              "      background-color: #3B4455;\n",
              "      fill: #D2E3FC;\n",
              "    }\n",
              "\n",
              "    [theme=dark] .colab-df-convert:hover {\n",
              "      background-color: #434B5C;\n",
              "      box-shadow: 0px 1px 3px 1px rgba(0, 0, 0, 0.15);\n",
              "      filter: drop-shadow(0px 1px 2px rgba(0, 0, 0, 0.3));\n",
              "      fill: #FFFFFF;\n",
              "    }\n",
              "  </style>\n",
              "\n",
              "      <script>\n",
              "        const buttonEl =\n",
              "          document.querySelector('#df-d585198d-5aa6-45ba-8318-ffab0324fbc2 button.colab-df-convert');\n",
              "        buttonEl.style.display =\n",
              "          google.colab.kernel.accessAllowed ? 'block' : 'none';\n",
              "\n",
              "        async function convertToInteractive(key) {\n",
              "          const element = document.querySelector('#df-d585198d-5aa6-45ba-8318-ffab0324fbc2');\n",
              "          const dataTable =\n",
              "            await google.colab.kernel.invokeFunction('convertToInteractive',\n",
              "                                                     [key], {});\n",
              "          if (!dataTable) return;\n",
              "\n",
              "          const docLinkHtml = 'Like what you see? Visit the ' +\n",
              "            '<a target=\"_blank\" href=https://colab.research.google.com/notebooks/data_table.ipynb>data table notebook</a>'\n",
              "            + ' to learn more about interactive tables.';\n",
              "          element.innerHTML = '';\n",
              "          dataTable['output_type'] = 'display_data';\n",
              "          await google.colab.output.renderOutput(dataTable, element);\n",
              "          const docLink = document.createElement('div');\n",
              "          docLink.innerHTML = docLinkHtml;\n",
              "          element.appendChild(docLink);\n",
              "        }\n",
              "      </script>\n",
              "    </div>\n",
              "  </div>\n",
              "  "
            ]
          },
          "metadata": {},
          "execution_count": 35
        }
      ],
      "source": [
        "main_df.head()"
      ]
    },
    {
      "cell_type": "markdown",
      "metadata": {
        "id": "AYNHz74SvTta"
      },
      "source": [
        "# Model Building"
      ]
    },
    {
      "cell_type": "markdown",
      "metadata": {
        "id": "vtHYa09XFxn6"
      },
      "source": [
        "Installing all necessary packages "
      ]
    },
    {
      "cell_type": "code",
      "execution_count": null,
      "metadata": {
        "id": "o10tTN-gvV5q"
      },
      "outputs": [],
      "source": [
        "import matplotlib.pyplot as plt\n",
        "import seaborn as sns\n",
        "import pandas as pd\n",
        "from sklearn import preprocessing\n",
        "from sklearn.preprocessing import StandardScaler\n",
        "from sklearn.model_selection import train_test_split\n",
        "from sklearn.model_selection import GridSearchCV\n",
        "from sklearn.metrics import classification_report, confusion_matrix, accuracy_score, roc_auc_score\n",
        "from sklearn.utils import shuffle\n",
        "from sklearn.model_selection import cross_val_score\n",
        "from sklearn.tree import DecisionTreeClassifier\n",
        "from sklearn.tree import plot_tree\n",
        "from sklearn import metrics"
      ]
    },
    {
      "cell_type": "markdown",
      "metadata": {
        "id": "g9NHdeVGGil5"
      },
      "source": [
        "Shuffling dataset"
      ]
    },
    {
      "cell_type": "code",
      "execution_count": null,
      "metadata": {
        "colab": {
          "base_uri": "https://localhost:8080/"
        },
        "id": "r9UmZruwG3fK",
        "outputId": "38d10a08-9bb6-4bc4-e2d1-c83424ee9305"
      },
      "outputs": [
        {
          "output_type": "execute_result",
          "data": {
            "text/plain": [
              "   Photo Label   Luminance      R Mean      G Mean      B Mean   R Variance  \\\n",
              "0            0  126.455832  120.057856  123.801192  118.591961   954.760485   \n",
              "1            1  160.437566  152.947675  152.949296  145.021118  2983.672689   \n",
              "2            0  153.181507  143.855147  148.266367  148.194645  1789.391300   \n",
              "3            1  174.850611  131.359561  177.650519  176.642952  1835.438628   \n",
              "4            1  190.564001  138.429331  192.199940  212.432796  2203.446081   \n",
              "\n",
              "    G Variance   B Variance  Gray Variance         Blur  Sharpness  \\\n",
              "0   969.415793  1039.857929   14273.799376   263.308577   2.186666   \n",
              "1  2364.082006  2249.567373   10173.548504  2056.289605  13.698362   \n",
              "2  1796.453005  1792.306902   11698.960529  1497.754045  10.211038   \n",
              "3  2681.397451  2685.938448    9698.558419  2118.056843  13.512918   \n",
              "4  3378.997001  3291.848709   10343.720250  9370.172568  52.265108   \n",
              "\n",
              "   Resolution  Saturation  Colorfulness  \n",
              "0       71280  120.582323      6.197884  \n",
              "1      123402  150.158231     41.677390  \n",
              "2       80896  146.791893      4.562584  \n",
              "3       75200  156.051104     38.147720  \n",
              "4       16740  175.654241     40.275522  "
            ],
            "text/html": [
              "\n",
              "  <div id=\"df-5e3902f0-4fe2-41e2-9e77-6c2e64b80279\">\n",
              "    <div class=\"colab-df-container\">\n",
              "      <div>\n",
              "<style scoped>\n",
              "    .dataframe tbody tr th:only-of-type {\n",
              "        vertical-align: middle;\n",
              "    }\n",
              "\n",
              "    .dataframe tbody tr th {\n",
              "        vertical-align: top;\n",
              "    }\n",
              "\n",
              "    .dataframe thead th {\n",
              "        text-align: right;\n",
              "    }\n",
              "</style>\n",
              "<table border=\"1\" class=\"dataframe\">\n",
              "  <thead>\n",
              "    <tr style=\"text-align: right;\">\n",
              "      <th></th>\n",
              "      <th>Photo Label</th>\n",
              "      <th>Luminance</th>\n",
              "      <th>R Mean</th>\n",
              "      <th>G Mean</th>\n",
              "      <th>B Mean</th>\n",
              "      <th>R Variance</th>\n",
              "      <th>G Variance</th>\n",
              "      <th>B Variance</th>\n",
              "      <th>Gray Variance</th>\n",
              "      <th>Blur</th>\n",
              "      <th>Sharpness</th>\n",
              "      <th>Resolution</th>\n",
              "      <th>Saturation</th>\n",
              "      <th>Colorfulness</th>\n",
              "    </tr>\n",
              "  </thead>\n",
              "  <tbody>\n",
              "    <tr>\n",
              "      <th>0</th>\n",
              "      <td>0</td>\n",
              "      <td>126.455832</td>\n",
              "      <td>120.057856</td>\n",
              "      <td>123.801192</td>\n",
              "      <td>118.591961</td>\n",
              "      <td>954.760485</td>\n",
              "      <td>969.415793</td>\n",
              "      <td>1039.857929</td>\n",
              "      <td>14273.799376</td>\n",
              "      <td>263.308577</td>\n",
              "      <td>2.186666</td>\n",
              "      <td>71280</td>\n",
              "      <td>120.582323</td>\n",
              "      <td>6.197884</td>\n",
              "    </tr>\n",
              "    <tr>\n",
              "      <th>1</th>\n",
              "      <td>1</td>\n",
              "      <td>160.437566</td>\n",
              "      <td>152.947675</td>\n",
              "      <td>152.949296</td>\n",
              "      <td>145.021118</td>\n",
              "      <td>2983.672689</td>\n",
              "      <td>2364.082006</td>\n",
              "      <td>2249.567373</td>\n",
              "      <td>10173.548504</td>\n",
              "      <td>2056.289605</td>\n",
              "      <td>13.698362</td>\n",
              "      <td>123402</td>\n",
              "      <td>150.158231</td>\n",
              "      <td>41.677390</td>\n",
              "    </tr>\n",
              "    <tr>\n",
              "      <th>2</th>\n",
              "      <td>0</td>\n",
              "      <td>153.181507</td>\n",
              "      <td>143.855147</td>\n",
              "      <td>148.266367</td>\n",
              "      <td>148.194645</td>\n",
              "      <td>1789.391300</td>\n",
              "      <td>1796.453005</td>\n",
              "      <td>1792.306902</td>\n",
              "      <td>11698.960529</td>\n",
              "      <td>1497.754045</td>\n",
              "      <td>10.211038</td>\n",
              "      <td>80896</td>\n",
              "      <td>146.791893</td>\n",
              "      <td>4.562584</td>\n",
              "    </tr>\n",
              "    <tr>\n",
              "      <th>3</th>\n",
              "      <td>1</td>\n",
              "      <td>174.850611</td>\n",
              "      <td>131.359561</td>\n",
              "      <td>177.650519</td>\n",
              "      <td>176.642952</td>\n",
              "      <td>1835.438628</td>\n",
              "      <td>2681.397451</td>\n",
              "      <td>2685.938448</td>\n",
              "      <td>9698.558419</td>\n",
              "      <td>2118.056843</td>\n",
              "      <td>13.512918</td>\n",
              "      <td>75200</td>\n",
              "      <td>156.051104</td>\n",
              "      <td>38.147720</td>\n",
              "    </tr>\n",
              "    <tr>\n",
              "      <th>4</th>\n",
              "      <td>1</td>\n",
              "      <td>190.564001</td>\n",
              "      <td>138.429331</td>\n",
              "      <td>192.199940</td>\n",
              "      <td>212.432796</td>\n",
              "      <td>2203.446081</td>\n",
              "      <td>3378.997001</td>\n",
              "      <td>3291.848709</td>\n",
              "      <td>10343.720250</td>\n",
              "      <td>9370.172568</td>\n",
              "      <td>52.265108</td>\n",
              "      <td>16740</td>\n",
              "      <td>175.654241</td>\n",
              "      <td>40.275522</td>\n",
              "    </tr>\n",
              "  </tbody>\n",
              "</table>\n",
              "</div>\n",
              "      <button class=\"colab-df-convert\" onclick=\"convertToInteractive('df-5e3902f0-4fe2-41e2-9e77-6c2e64b80279')\"\n",
              "              title=\"Convert this dataframe to an interactive table.\"\n",
              "              style=\"display:none;\">\n",
              "        \n",
              "  <svg xmlns=\"http://www.w3.org/2000/svg\" height=\"24px\"viewBox=\"0 0 24 24\"\n",
              "       width=\"24px\">\n",
              "    <path d=\"M0 0h24v24H0V0z\" fill=\"none\"/>\n",
              "    <path d=\"M18.56 5.44l.94 2.06.94-2.06 2.06-.94-2.06-.94-.94-2.06-.94 2.06-2.06.94zm-11 1L8.5 8.5l.94-2.06 2.06-.94-2.06-.94L8.5 2.5l-.94 2.06-2.06.94zm10 10l.94 2.06.94-2.06 2.06-.94-2.06-.94-.94-2.06-.94 2.06-2.06.94z\"/><path d=\"M17.41 7.96l-1.37-1.37c-.4-.4-.92-.59-1.43-.59-.52 0-1.04.2-1.43.59L10.3 9.45l-7.72 7.72c-.78.78-.78 2.05 0 2.83L4 21.41c.39.39.9.59 1.41.59.51 0 1.02-.2 1.41-.59l7.78-7.78 2.81-2.81c.8-.78.8-2.07 0-2.86zM5.41 20L4 18.59l7.72-7.72 1.47 1.35L5.41 20z\"/>\n",
              "  </svg>\n",
              "      </button>\n",
              "      \n",
              "  <style>\n",
              "    .colab-df-container {\n",
              "      display:flex;\n",
              "      flex-wrap:wrap;\n",
              "      gap: 12px;\n",
              "    }\n",
              "\n",
              "    .colab-df-convert {\n",
              "      background-color: #E8F0FE;\n",
              "      border: none;\n",
              "      border-radius: 50%;\n",
              "      cursor: pointer;\n",
              "      display: none;\n",
              "      fill: #1967D2;\n",
              "      height: 32px;\n",
              "      padding: 0 0 0 0;\n",
              "      width: 32px;\n",
              "    }\n",
              "\n",
              "    .colab-df-convert:hover {\n",
              "      background-color: #E2EBFA;\n",
              "      box-shadow: 0px 1px 2px rgba(60, 64, 67, 0.3), 0px 1px 3px 1px rgba(60, 64, 67, 0.15);\n",
              "      fill: #174EA6;\n",
              "    }\n",
              "\n",
              "    [theme=dark] .colab-df-convert {\n",
              "      background-color: #3B4455;\n",
              "      fill: #D2E3FC;\n",
              "    }\n",
              "\n",
              "    [theme=dark] .colab-df-convert:hover {\n",
              "      background-color: #434B5C;\n",
              "      box-shadow: 0px 1px 3px 1px rgba(0, 0, 0, 0.15);\n",
              "      filter: drop-shadow(0px 1px 2px rgba(0, 0, 0, 0.3));\n",
              "      fill: #FFFFFF;\n",
              "    }\n",
              "  </style>\n",
              "\n",
              "      <script>\n",
              "        const buttonEl =\n",
              "          document.querySelector('#df-5e3902f0-4fe2-41e2-9e77-6c2e64b80279 button.colab-df-convert');\n",
              "        buttonEl.style.display =\n",
              "          google.colab.kernel.accessAllowed ? 'block' : 'none';\n",
              "\n",
              "        async function convertToInteractive(key) {\n",
              "          const element = document.querySelector('#df-5e3902f0-4fe2-41e2-9e77-6c2e64b80279');\n",
              "          const dataTable =\n",
              "            await google.colab.kernel.invokeFunction('convertToInteractive',\n",
              "                                                     [key], {});\n",
              "          if (!dataTable) return;\n",
              "\n",
              "          const docLinkHtml = 'Like what you see? Visit the ' +\n",
              "            '<a target=\"_blank\" href=https://colab.research.google.com/notebooks/data_table.ipynb>data table notebook</a>'\n",
              "            + ' to learn more about interactive tables.';\n",
              "          element.innerHTML = '';\n",
              "          dataTable['output_type'] = 'display_data';\n",
              "          await google.colab.output.renderOutput(dataTable, element);\n",
              "          const docLink = document.createElement('div');\n",
              "          docLink.innerHTML = docLinkHtml;\n",
              "          element.appendChild(docLink);\n",
              "        }\n",
              "      </script>\n",
              "    </div>\n",
              "  </div>\n",
              "  "
            ]
          },
          "metadata": {},
          "execution_count": 37
        }
      ],
      "source": [
        "# Randomize the sequence of data\n",
        "main_df = shuffle(main_df).reset_index(drop = True)\n",
        "main_df.head()"
      ]
    },
    {
      "cell_type": "code",
      "source": [
        "main_df.to_csv('Processed Dataframe.csv', index = False)"
      ],
      "metadata": {
        "id": "cc-3aW8cjMkk"
      },
      "execution_count": null,
      "outputs": []
    },
    {
      "cell_type": "markdown",
      "metadata": {
        "id": "GPRbSr64HGWy"
      },
      "source": [
        "Creating Model"
      ]
    },
    {
      "cell_type": "code",
      "execution_count": null,
      "metadata": {
        "id": "YMxPFKbHHH2t"
      },
      "outputs": [],
      "source": [
        "# Define X and Y variables\n",
        "X = main_df.drop(columns= ['Photo Label']).values # use all 13 variables\n",
        "Y = main_df[['Photo Label']].values # 1 output: Classifying if it is real or fake. 0 = fotocopy, 1 = real "
      ]
    },
    {
      "cell_type": "code",
      "execution_count": null,
      "metadata": {
        "id": "1mStTVWzI-ND"
      },
      "outputs": [],
      "source": [
        "# Standardize data (since different scales for each variables)\n",
        "scaler = StandardScaler()\n",
        "X = scaler.fit_transform(X)"
      ]
    },
    {
      "cell_type": "code",
      "execution_count": null,
      "metadata": {
        "id": "yVe_ETq8I-px"
      },
      "outputs": [],
      "source": [
        "# Split data\n",
        "X_train, X_test, Y_train, Y_test = train_test_split(X, Y, test_size = 0.3, random_state = 50)"
      ]
    },
    {
      "cell_type": "code",
      "execution_count": null,
      "metadata": {
        "id": "uNC2_obCJBZ4"
      },
      "outputs": [],
      "source": [
        "# Fitting KNN Model to Train\n",
        "dt = DecisionTreeClassifier()\n",
        "DT_model_1 = dt.fit(X_train, Y_train.ravel())"
      ]
    },
    {
      "cell_type": "code",
      "execution_count": null,
      "metadata": {
        "colab": {
          "base_uri": "https://localhost:8080/"
        },
        "id": "8NhnYTcmJD3C",
        "outputId": "753f4985-a3e1-48c7-dff8-901bbb56d86e"
      },
      "outputs": [
        {
          "output_type": "stream",
          "name": "stdout",
          "text": [
            "[1.         0.99295775 1.         0.98591549 0.97887324]\n"
          ]
        }
      ],
      "source": [
        "# Cross Validation of Model \n",
        "scores = cross_val_score(DT_model_1, X_train, Y_train, cv=5)\n",
        "print(scores)"
      ]
    },
    {
      "cell_type": "code",
      "execution_count": null,
      "metadata": {
        "colab": {
          "base_uri": "https://localhost:8080/"
        },
        "id": "FljXv1S8JGLB",
        "outputId": "eba1c280-9367-4f1a-d9aa-f87b9780ace2"
      },
      "outputs": [
        {
          "output_type": "stream",
          "name": "stdout",
          "text": [
            "[1 1 1 1 0 0 1 1 1 0 1 0 1 1 1 0 0 1 0 0 1 0 1 0 0 1 1 1 1 1 1 0 1 0 1 1 0\n",
            " 1 1 0 0 1 1 1 1 1 1 1 1 0 1 1 0 1 0 0 1 1 1 0 0 1 1 1 1 0 0 1 1 1 0 0 1 1\n",
            " 0 0 1 1 0 1 1 0 0 1 1 1 1 0 1 1 0 1 1 1 0 1 0 1 0 1 0 1 0 0 0 0 0 0 0 1 1\n",
            " 1 1 1 0 0 1 0 1 0 0 1 1 1 0 0 0 1 1 1 0 0 0 1 0 0 1 0 1 0 0 1 0 0 1 1 1 1\n",
            " 1 0 1 1 0 1 1 1 1 1 1 0 0 0 1 1 1 0 1 1 1 0 1 1 1 0 0 1 1 1 0 1 0 1 0 0 1\n",
            " 0 1 1 0 0 0 0 0 0 1 1 0 0 0 0 1 0 1 1 1 0 1 1 0 0 1 0 1 0 1 0 1 1 0 0 0 1\n",
            " 1 1 1 1 1 1 0 1 0 0 0 0 1 1 1 0 1 1 1 1 1 1 0 1 1 0 1 1 1 0 0 1 0 1 0 0 1\n",
            " 0 1 1 1 0 0 0 1 1 0 1 0 1 0 1 1 1 1 0 1 1 0 0 1 0 1 0 1 0 0 1 0 1 1 0 0 1\n",
            " 0 0 0 1 1 0 1 1 0]\n"
          ]
        }
      ],
      "source": [
        "# Predicting Y \n",
        "Y_pred = DT_model_1.predict(X_test)\n",
        "print(Y_pred)"
      ]
    },
    {
      "cell_type": "code",
      "execution_count": null,
      "metadata": {
        "colab": {
          "base_uri": "https://localhost:8080/"
        },
        "id": "IwHJmkqQJMQZ",
        "outputId": "fe47426b-a5a5-4a5a-bce0-fc805e3e3770"
      },
      "outputs": [
        {
          "output_type": "stream",
          "name": "stdout",
          "text": [
            "              precision    recall  f1-score   support\n",
            "\n",
            "           0       1.00      1.00      1.00       131\n",
            "           1       1.00      1.00      1.00       174\n",
            "\n",
            "    accuracy                           1.00       305\n",
            "   macro avg       1.00      1.00      1.00       305\n",
            "weighted avg       1.00      1.00      1.00       305\n",
            "\n"
          ]
        }
      ],
      "source": [
        "# Checking performance with classification report\n",
        "print(classification_report(Y_test, Y_pred))"
      ]
    },
    {
      "cell_type": "code",
      "execution_count": null,
      "metadata": {
        "colab": {
          "base_uri": "https://localhost:8080/"
        },
        "id": "BJo02N7HJMr5",
        "outputId": "1df705e2-2fb8-4967-9ae9-da749bd5f49b"
      },
      "outputs": [
        {
          "output_type": "execute_result",
          "data": {
            "text/plain": [
              "1.0"
            ]
          },
          "metadata": {},
          "execution_count": 46
        }
      ],
      "source": [
        "# Checking performance using ROC Score\n",
        "roc_auc_score(Y_test, Y_pred)"
      ]
    },
    {
      "cell_type": "markdown",
      "metadata": {
        "id": "sj6eYPervWjy"
      },
      "source": [
        "# Training and Predicting"
      ]
    },
    {
      "cell_type": "markdown",
      "metadata": {
        "id": "cSNwxpJnKtSx"
      },
      "source": [
        "Pruning our Decision Tree "
      ]
    },
    {
      "cell_type": "code",
      "execution_count": null,
      "metadata": {
        "id": "_rp679hOpsV0"
      },
      "outputs": [],
      "source": [
        "# Several list variables that are empty where values will be appended \n",
        "max_depth=[]\n",
        "acc_gini=[]\n",
        "acc_entropy=[]"
      ]
    },
    {
      "cell_type": "code",
      "execution_count": null,
      "metadata": {
        "id": "gYTWWH-7Kxfy"
      },
      "outputs": [],
      "source": [
        "# Max depth will be in the range of until 30 \n",
        "for i in range(1,30):\n",
        "    dt_test = DecisionTreeClassifier(criterion='gini',max_depth = i)\n",
        "    dt_test.fit(X_train,Y_train)\n",
        "    pred = dt_test.predict(X_test)\n",
        "    \n",
        "    acc_gini.append(accuracy_score(Y_test,pred))\n",
        "    \n",
        "    dt_test = DecisionTreeClassifier(criterion='entropy',max_depth = i)\n",
        "    dt_test.fit(X_train,Y_train)\n",
        "    pred = dt_test.predict(X_test)\n",
        "    \n",
        "    acc_entropy.append(accuracy_score(Y_test,pred))\n",
        "    \n",
        "    max_depth.append(i)\n",
        "    \n",
        "    dt_param_df = pd.DataFrame({'acc_gini': pd.Series(acc_gini),\n",
        "                   'acc_entropy': pd.Series(acc_entropy),\n",
        "                   'max_depth': pd.Series(max_depth)})"
      ]
    },
    {
      "cell_type": "code",
      "execution_count": null,
      "metadata": {
        "colab": {
          "base_uri": "https://localhost:8080/",
          "height": 297
        },
        "id": "q6XcwNuNp5g2",
        "outputId": "8f5c1bce-40e3-4d63-ef9c-0793d392ca5d"
      },
      "outputs": [
        {
          "output_type": "execute_result",
          "data": {
            "text/plain": [
              "<matplotlib.legend.Legend at 0x7f83fba4b650>"
            ]
          },
          "metadata": {},
          "execution_count": 49
        },
        {
          "output_type": "display_data",
          "data": {
            "text/plain": [
              "<Figure size 432x288 with 1 Axes>"
            ],
            "image/png": "[encoded data removed]"
          },
          "metadata": {
            "needs_background": "light"
          }
        }
      ],
      "source": [
        "# Visualization of the pruning\n",
        "plt.plot('max_depth','acc_gini', data = dt_param_df, label='gini')\n",
        "plt.plot('max_depth','acc_entropy', data = dt_param_df, label='entropy')\n",
        "plt.xlabel('max_depth')\n",
        "plt.ylabel('accuracy')\n",
        "plt.legend()"
      ]
    },
    {
      "cell_type": "markdown",
      "metadata": {
        "id": "W8tXe7RSKvzI"
      },
      "source": [
        "Hyperparameter tuning DT "
      ]
    },
    {
      "cell_type": "code",
      "execution_count": null,
      "metadata": {
        "id": "avXCER3SvYfS"
      },
      "outputs": [],
      "source": [
        "# Construct the hyperparameters we want to check whether or not it will make good DT\n",
        "criterion=['gini', 'entropy']\n",
        "max_depth=[1,6,8,11]\n",
        "min_samples_split=[1,9,11,12]\n",
        "min_samples_leaf=[1,3,7,9]\n",
        "param_grid={'max_depth':max_depth,\n",
        "            'min_samples_split':min_samples_split,\n",
        "            'min_samples_leaf':min_samples_leaf,\n",
        "            'criterion':criterion}"
      ]
    },
    {
      "cell_type": "code",
      "execution_count": null,
      "metadata": {
        "id": "fBHCLNcNJLkd"
      },
      "outputs": [],
      "source": [
        "# Change parameters to a dictionary\n",
        "param = dict(criterion = 'criterion',\n",
        "             max_depth = 'max_depth', \n",
        "             min_samples_split = 'min_samples_split',\n",
        "             min_samples_leaf = 'min_samples_leaf')"
      ]
    },
    {
      "cell_type": "code",
      "execution_count": null,
      "metadata": {
        "colab": {
          "base_uri": "https://localhost:8080/"
        },
        "id": "fKRwQ4DIJduC",
        "outputId": "bd2c8fa6-d417-45e9-8f02-eab39a900f34"
      },
      "outputs": [
        {
          "output_type": "stream",
          "name": "stdout",
          "text": [
            "Fitting 3 folds for each of 128 candidates, totalling 384 fits\n"
          ]
        },
        {
          "output_type": "stream",
          "name": "stderr",
          "text": [
            "/usr/local/lib/python3.7/dist-packages/sklearn/model_selection/_validation.py:372: FitFailedWarning: \n",
            "96 fits failed out of a total of 384.\n",
            "The score on these train-test partitions for these parameters will be set to nan.\n",
            "If these failures are not expected, you can try to debug them by setting error_score='raise'.\n",
            "\n",
            "Below are more details about the failures:\n",
            "--------------------------------------------------------------------------------\n",
            "96 fits failed with the following error:\n",
            "Traceback (most recent call last):\n",
            "  File \"/usr/local/lib/python3.7/dist-packages/sklearn/model_selection/_validation.py\", line 680, in _fit_and_score\n",
            "    estimator.fit(X_train, y_train, **fit_params)\n",
            "  File \"/usr/local/lib/python3.7/dist-packages/sklearn/tree/_classes.py\", line 942, in fit\n",
            "    X_idx_sorted=X_idx_sorted,\n",
            "  File \"/usr/local/lib/python3.7/dist-packages/sklearn/tree/_classes.py\", line 254, in fit\n",
            "    % self.min_samples_split\n",
            "ValueError: min_samples_split must be an integer greater than 1 or a float in (0.0, 1.0]; got the integer 1\n",
            "\n",
            "  warnings.warn(some_fits_failed_message, FitFailedWarning)\n",
            "/usr/local/lib/python3.7/dist-packages/sklearn/model_selection/_search.py:972: UserWarning: One or more of the test scores are non-finite: [       nan 0.91561181 0.91561181 0.91561181        nan 0.91561181\n",
            " 0.91561181 0.91561181        nan 0.91561181 0.91561181 0.91561181\n",
            "        nan 0.91561181 0.91561181 0.91561181        nan 0.9676512\n",
            " 0.96905767 0.96905767        nan 0.94796062 0.94796062 0.9535865\n",
            "        nan 0.94514768 0.94514768 0.9395218         nan 0.9535865\n",
            " 0.94936709 0.9535865         nan 0.96343179 0.96061885 0.96061885\n",
            "        nan 0.95499297 0.95780591 0.95077356        nan 0.9395218\n",
            " 0.94514768 0.9395218         nan 0.9535865  0.94936709 0.94936709\n",
            "        nan 0.96061885 0.96202532 0.96061885        nan 0.9535865\n",
            " 0.9535865  0.95499297        nan 0.9395218  0.94092827 0.94092827\n",
            "        nan 0.9535865  0.9535865  0.94936709        nan 0.91561181\n",
            " 0.91561181 0.91561181        nan 0.91561181 0.91561181 0.91561181\n",
            "        nan 0.91561181 0.91561181 0.91561181        nan 0.91561181\n",
            " 0.91561181 0.91561181        nan 0.96483826 0.95780591 0.95780591\n",
            "        nan 0.95921238 0.95499297 0.95218003        nan 0.94936709\n",
            " 0.94796062 0.94936709        nan 0.9395218  0.94374121 0.94374121\n",
            "        nan 0.9676512  0.96202532 0.95639944        nan 0.95780591\n",
            " 0.95218003 0.9535865         nan 0.94374121 0.94936709 0.94936709\n",
            "        nan 0.9395218  0.9395218  0.9395218         nan 0.96624473\n",
            " 0.96061885 0.95780591        nan 0.96202532 0.9535865  0.9535865\n",
            "        nan 0.94936709 0.94936709 0.94796062        nan 0.9395218\n",
            " 0.9395218  0.9395218 ]\n",
            "  category=UserWarning,\n"
          ]
        },
        {
          "output_type": "execute_result",
          "data": {
            "text/plain": [
              "GridSearchCV(cv=3, estimator=DecisionTreeClassifier(), n_jobs=-1,\n",
              "             param_grid={'criterion': ['gini', 'entropy'],\n",
              "                         'max_depth': [1, 6, 8, 11],\n",
              "                         'min_samples_leaf': [1, 3, 7, 9],\n",
              "                         'min_samples_split': [1, 9, 11, 12]},\n",
              "             verbose=200)"
            ]
          },
          "metadata": {},
          "execution_count": 52
        }
      ],
      "source": [
        "# Finding the best parameters using GridSearchCV\n",
        "grid = GridSearchCV(DecisionTreeClassifier(),\n",
        "                    param_grid,\n",
        "                    n_jobs =- 1,\n",
        "                    cv = 3,\n",
        "                    verbose = 200)\n",
        "grid.fit(X_train,Y_train)"
      ]
    },
    {
      "cell_type": "code",
      "execution_count": null,
      "metadata": {
        "colab": {
          "base_uri": "https://localhost:8080/"
        },
        "id": "ZsVLZ1mKJtiJ",
        "outputId": "46d1a5b7-078e-4406-90ff-e116c1632832"
      },
      "outputs": [
        {
          "output_type": "execute_result",
          "data": {
            "text/plain": [
              "{'criterion': 'gini',\n",
              " 'max_depth': 6,\n",
              " 'min_samples_leaf': 1,\n",
              " 'min_samples_split': 11}"
            ]
          },
          "metadata": {},
          "execution_count": 53
        }
      ],
      "source": [
        "# Getting best parameters\n",
        "grid.best_params_"
      ]
    },
    {
      "cell_type": "code",
      "execution_count": null,
      "metadata": {
        "colab": {
          "base_uri": "https://localhost:8080/"
        },
        "id": "MGiTbQSWJwas",
        "outputId": "3f9b3b01-5750-4fe8-a066-7426c9bc0c54"
      },
      "outputs": [
        {
          "output_type": "execute_result",
          "data": {
            "text/plain": [
              "0.969057665260197"
            ]
          },
          "metadata": {},
          "execution_count": 54
        }
      ],
      "source": [
        "# Getting best accuracy \n",
        "grid.best_score_"
      ]
    },
    {
      "cell_type": "markdown",
      "metadata": {
        "id": "NQ3aYlB_Kx3Q"
      },
      "source": [
        "Predicting with best model "
      ]
    },
    {
      "cell_type": "code",
      "execution_count": null,
      "metadata": {
        "colab": {
          "base_uri": "https://localhost:8080/"
        },
        "id": "784FQU4cK0v4",
        "outputId": "46b45c46-cde4-46a9-e9e0-06839f725d29"
      },
      "outputs": [
        {
          "output_type": "execute_result",
          "data": {
            "text/plain": [
              "DecisionTreeClassifier(max_depth=6, min_samples_split=9)"
            ]
          },
          "metadata": {},
          "execution_count": 55
        }
      ],
      "source": [
        "# Constructing best model \n",
        "DT_model_2 = DecisionTreeClassifier(criterion = 'gini', \n",
        "                                    max_depth = 6, \n",
        "                                    min_samples_leaf = 1, \n",
        "                                    min_samples_split = 9)\n",
        "\n",
        "DT_model_2.fit(X_train, Y_train)"
      ]
    },
    {
      "cell_type": "code",
      "execution_count": null,
      "metadata": {
        "id": "_Of9K1AeKOp3"
      },
      "outputs": [],
      "source": [
        "# Predicting using best model \n",
        "DT_model_2_pred = DT_model_2.predict(X_test)"
      ]
    },
    {
      "cell_type": "code",
      "execution_count": null,
      "metadata": {
        "colab": {
          "base_uri": "https://localhost:8080/"
        },
        "id": "cbA09ayVKaBA",
        "outputId": "39a4acc8-6508-4752-acd0-fcfb8fa00d08"
      },
      "outputs": [
        {
          "output_type": "stream",
          "name": "stdout",
          "text": [
            "              precision    recall  f1-score   support\n",
            "\n",
            "           0       0.99      0.97      0.98       131\n",
            "           1       0.98      0.99      0.99       174\n",
            "\n",
            "    accuracy                           0.98       305\n",
            "   macro avg       0.98      0.98      0.98       305\n",
            "weighted avg       0.98      0.98      0.98       305\n",
            "\n"
          ]
        }
      ],
      "source": [
        "# Seeing accuracy \n",
        "print(classification_report(Y_test, DT_model_2_pred))"
      ]
    },
    {
      "cell_type": "code",
      "source": [
        "# Getting cross_val score \n",
        "from sklearn.model_selection import cross_val_score\n",
        "print(cross_val_score(DT_model_2, X_test, Y_test, cv=5))"
      ],
      "metadata": {
        "colab": {
          "base_uri": "https://localhost:8080/"
        },
        "id": "7P-u1Ab9VYRV",
        "outputId": "5607825f-6df7-4f94-c231-1d4b6c93babf"
      },
      "execution_count": null,
      "outputs": [
        {
          "output_type": "stream",
          "name": "stdout",
          "text": [
            "[0.90163934 0.95081967 0.8852459  0.96721311 0.95081967]\n"
          ]
        }
      ]
    },
    {
      "cell_type": "code",
      "execution_count": null,
      "metadata": {
        "colab": {
          "base_uri": "https://localhost:8080/"
        },
        "id": "0bdl93kIZ03G",
        "outputId": "6b560cdf-6539-46b2-db97-b1a20c60e27a"
      },
      "outputs": [
        {
          "name": "stdout",
          "output_type": "stream",
          "text": [
            "0.973615252552634\n"
          ]
        }
      ],
      "source": [
        "# AUC (Area under curve) Score \n",
        "fpr, tpr, thresholds = metrics.roc_curve(Y_test, DT_model_2_pred)\n",
        "print(metrics.auc(fpr, tpr))"
      ]
    },
    {
      "cell_type": "code",
      "execution_count": null,
      "metadata": {
        "id": "rBtd0iJMe409"
      },
      "outputs": [],
      "source": [
        "X_label = main_df.drop(columns= ['Photo Label'])"
      ]
    },
    {
      "cell_type": "code",
      "execution_count": null,
      "metadata": {
        "colab": {
          "base_uri": "https://localhost:8080/",
          "height": 891
        },
        "id": "5Ky90jIzZw-c",
        "outputId": "d4226493-9dcd-4bdb-af90-cfec845e2982"
      },
      "outputs": [
        {
          "data": {
            "image/png": "[encoded data removed]",
            "text/plain": [
              "<Figure size 1500x1200 with 1 Axes>"
            ]
          },
          "metadata": {},
          "output_type": "display_data"
        }
      ],
      "source": [
        "# Showing loss by visualizing DT and seeing Gini per leaf \n",
        "plt.figure(figsize=(10,8), dpi=150)\n",
        "plot_tree(DT_model_2,feature_names = X_label.columns, filled=True);"
      ]
    },
    {
      "cell_type": "markdown",
      "metadata": {
        "id": "Px0tUH6eK1U4"
      },
      "source": [
        "Save best model in checkpoint "
      ]
    },
    {
      "cell_type": "code",
      "execution_count": null,
      "metadata": {
        "id": "uFuA8m1jLzgW"
      },
      "outputs": [],
      "source": [
        "import joblib "
      ]
    },
    {
      "cell_type": "code",
      "execution_count": null,
      "metadata": {
        "colab": {
          "base_uri": "https://localhost:8080/"
        },
        "id": "-MmhbdQTK3aI",
        "outputId": "97972c47-7d6a-4948-9992-859348d054d8"
      },
      "outputs": [
        {
          "data": {
            "text/plain": [
              "['DT_finalized_model.sav']"
            ]
          },
          "execution_count": 68,
          "metadata": {},
          "output_type": "execute_result"
        }
      ],
      "source": [
        "# save the model to disk\n",
        "filename = 'DT_finalized_model.sav'\n",
        "joblib.dump(DT_model_2, filename)"
      ]
    }
  ],
  "metadata": {
    "colab": {
      "collapsed_sections": [
        "AYNHz74SvTta"
      ],
      "provenance": []
    },
    "kernelspec": {
      "display_name": "Python 3",
      "name": "python3"
    },
    "language_info": {
      "name": "python"
    }
  },
  "nbformat": 4,
  "nbformat_minor": 0
}